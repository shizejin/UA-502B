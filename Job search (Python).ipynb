{
 "cells": [
  {
   "cell_type": "markdown",
   "id": "8ffb943b",
   "metadata": {},
   "source": [
    "## Two Period Job Search Model"
   ]
  },
  {
   "cell_type": "code",
   "execution_count": 12,
   "id": "db8dc392",
   "metadata": {},
   "outputs": [],
   "source": [
    "from quantecon.distributions import BetaBinomial\n",
    "\n",
    "import numpy as np\n",
    "from numba import njit\n",
    "from collections import namedtuple\n",
    "import matplotlib.pyplot as plt"
   ]
  },
  {
   "cell_type": "code",
   "execution_count": 13,
   "id": "c735d146",
   "metadata": {},
   "outputs": [],
   "source": [
    "BetaBinomial?"
   ]
  },
  {
   "cell_type": "code",
   "execution_count": 14,
   "id": "2e2c73d0",
   "metadata": {},
   "outputs": [],
   "source": [
    "namedtuple?"
   ]
  },
  {
   "cell_type": "code",
   "execution_count": 15,
   "id": "6db38ea1",
   "metadata": {},
   "outputs": [],
   "source": [
    "# NamedTuple Model\n",
    "Model = namedtuple(\"Model\", (\"n\", \"w_vals\", \"φ\", \"β\", \"c\"))"
   ]
  },
  {
   "cell_type": "code",
   "execution_count": 16,
   "id": "7c242834",
   "metadata": {},
   "outputs": [],
   "source": [
    "def create_job_search_model(\n",
    "        n=50,        # wage grid size\n",
    "        w_min=10.0,  # lowest wage\n",
    "        w_max=60.0,  # highest wage\n",
    "        a=200,       # wage distribution parameter\n",
    "        b=100,       # wage distribution parameter\n",
    "        β=0.96,      # discount factor\n",
    "        c=10.0       # unemployment compensation\n",
    "    ):\n",
    "    \"\"\"\n",
    "    Creates the parameters for job search model and returns the\n",
    "    instance of namedtuple Model\n",
    "    \"\"\"\n",
    "    w_vals = np.linspace(w_min, w_max, n+1)\n",
    "    φ = BetaBinomial(n, a, b).pdf()\n",
    "    return Model(n=n, w_vals=w_vals, φ=φ, β=β, c=c)"
   ]
  },
  {
   "cell_type": "code",
   "execution_count": 17,
   "id": "3f1351b9",
   "metadata": {},
   "outputs": [],
   "source": [
    "model = create_job_search_model()"
   ]
  },
  {
   "cell_type": "code",
   "execution_count": 18,
   "id": "7440f993",
   "metadata": {},
   "outputs": [],
   "source": [
    "n, w_vals, φ, β, c = model"
   ]
  },
  {
   "cell_type": "code",
   "execution_count": 19,
   "id": "a613cd97",
   "metadata": {},
   "outputs": [
    {
     "data": {
      "text/plain": [
       "51"
      ]
     },
     "execution_count": 19,
     "metadata": {},
     "output_type": "execute_result"
    }
   ],
   "source": [
    "w_vals.size"
   ]
  },
  {
   "cell_type": "code",
   "execution_count": 20,
   "id": "c5928c64",
   "metadata": {},
   "outputs": [
    {
     "data": {
      "text/plain": [
       "array([10., 11., 12., 13., 14., 15., 16., 17., 18., 19., 20., 21., 22.,\n",
       "       23., 24., 25., 26., 27., 28., 29., 30., 31., 32., 33., 34., 35.,\n",
       "       36., 37., 38., 39., 40., 41., 42., 43., 44., 45., 46., 47., 48.,\n",
       "       49., 50., 51., 52., 53., 54., 55., 56., 57., 58., 59., 60.])"
      ]
     },
     "execution_count": 20,
     "metadata": {},
     "output_type": "execute_result"
    }
   ],
   "source": [
    "w_vals"
   ]
  },
  {
   "cell_type": "code",
   "execution_count": 21,
   "id": "43ff889a",
   "metadata": {},
   "outputs": [
    {
     "data": {
      "text/plain": [
       "51"
      ]
     },
     "execution_count": 21,
     "metadata": {},
     "output_type": "execute_result"
    }
   ],
   "source": [
    "φ.size"
   ]
  },
  {
   "cell_type": "code",
   "execution_count": 22,
   "id": "84d252d5",
   "metadata": {},
   "outputs": [
    {
     "data": {
      "image/png": "[encoded data removed]",
      "text/plain": [
       "<Figure size 640x480 with 1 Axes>"
      ]
     },
     "metadata": {},
     "output_type": "display_data"
    }
   ],
   "source": [
    "plt.plot(w_vals, φ);"
   ]
  },
  {
   "cell_type": "code",
   "execution_count": 23,
   "id": "17c7276a",
   "metadata": {},
   "outputs": [
    {
     "data": {
      "text/plain": [
       "1.0000000000002227"
      ]
     },
     "execution_count": 23,
     "metadata": {},
     "output_type": "execute_result"
    }
   ],
   "source": [
    "φ.sum()"
   ]
  },
  {
   "cell_type": "code",
   "execution_count": 44,
   "id": "cffc7f5e",
   "metadata": {},
   "outputs": [
    {
     "data": {
      "text/plain": [
       "1.0000000002227107"
      ]
     },
     "execution_count": 44,
     "metadata": {},
     "output_type": "execute_result"
    }
   ],
   "source": [
    "φ.sum() ** 1000"
   ]
  },
  {
   "cell_type": "markdown",
   "id": "5755f546",
   "metadata": {},
   "source": [
    "$$\n",
    "v_{1}\\left(w_{1}\\right)\t=\\max\\left\\{ w_{1}+\\beta w_{1},c+\\beta\\sum_{w^{\\prime}\\in W}v_{2}\\left(w^{\\prime}\\right)\\varphi\\left(w^{\\prime}\\right)\\right\\} \n",
    "\t=\\max\\left\\{ w_{1}+\\beta w_{1},h_{1}\\right\\} \\\\\n",
    "v_{2}\\left(w\\right)=\\max\\left\\{ c,w\\right\\} \\\\\n",
    "$$"
   ]
  },
  {
   "cell_type": "code",
   "execution_count": 24,
   "id": "455b2b59",
   "metadata": {},
   "outputs": [],
   "source": [
    "@njit\n",
    "def v_1(w, model):\n",
    "    \"\"\"\n",
    "    Computes lifetime value at t=1 given current wage w_1 = w\n",
    "    \"\"\"\n",
    "    β, c = model.β, model.c\n",
    "    s = np.maximum(c, model.w_vals)           # which is v2\n",
    "    h_1 = c + β * np.sum(s * model.φ)\n",
    "    return np.maximum(w + β * w, h_1)"
   ]
  },
  {
   "cell_type": "markdown",
   "id": "ac53be1d",
   "metadata": {},
   "source": [
    "$$\n",
    "w_{1}^{*}:=\\frac{h_{1}}{1+\\beta}\n",
    "$$"
   ]
  },
  {
   "cell_type": "code",
   "execution_count": 25,
   "id": "43d4202e",
   "metadata": {},
   "outputs": [],
   "source": [
    "@njit\n",
    "def res_wage(model):\n",
    "    \"\"\"\n",
    "    Computes reservation wage at t=1\n",
    "    \"\"\"\n",
    "    β, c = model.β, model.c\n",
    "    s = np.maximum(c, model.w_vals)\n",
    "    h_1 = c + β * np.sum(s * model.φ)\n",
    "    return h_1 / (1 + β)"
   ]
  },
  {
   "cell_type": "code",
   "execution_count": 26,
   "id": "2c353196",
   "metadata": {},
   "outputs": [
    {
     "data": {
      "text/plain": [
       "26.326530612249694"
      ]
     },
     "execution_count": 26,
     "metadata": {},
     "output_type": "execute_result"
    }
   ],
   "source": [
    "w_star = res_wage(model)\n",
    "\n",
    "w_star"
   ]
  },
  {
   "cell_type": "code",
   "execution_count": 27,
   "id": "b3fae372",
   "metadata": {
    "scrolled": false
   },
   "outputs": [
    {
     "data": {
      "text/plain": [
       "[<matplotlib.lines.Line2D at 0x7f5e27da0670>]"
      ]
     },
     "execution_count": 27,
     "metadata": {},
     "output_type": "execute_result"
    },
    {
     "data": {
      "image/png": "[encoded data removed]",
      "text/plain": [
       "<Figure size 640x480 with 1 Axes>"
      ]
     },
     "metadata": {},
     "output_type": "display_data"
    }
   ],
   "source": [
    "v = np.array([v_1(w, model) for w in w_vals])\n",
    "\n",
    "plt.plot(w_vals, v)"
   ]
  },
  {
   "cell_type": "code",
   "execution_count": 28,
   "id": "d43c455d",
   "metadata": {},
   "outputs": [],
   "source": [
    "##### Plots #####\n",
    "\n",
    "import matplotlib.pyplot as plt\n",
    "import matplotlib.pyplot as plt\n",
    "\n",
    "plt.rcParams.update({\"text.usetex\": True, \"font.size\": 14})\n",
    "\n",
    "\n",
    "default_model = create_job_search_model()\n",
    "\n",
    "\n",
    "def fig_dist(model=default_model, fs=10):\n",
    "    \"\"\"\n",
    "    Plot the distribution of wages\n",
    "    \"\"\"\n",
    "    fig, ax = plt.subplots()\n",
    "    ax.plot(model.w_vals, model.φ, \"-o\", alpha=0.5, label=\"wage distribution\")\n",
    "    ax.legend(loc=\"upper left\", fontsize=fs)\n",
    "\n",
    "\n",
    "def fig_v1(model=default_model, savefig=False,\n",
    "                  figname=\"./figures/iid_job_search_0_py.pdf\", fs=18):\n",
    "    \"\"\"\n",
    "    Plot two-period value function and res wage\n",
    "    \"\"\"\n",
    "    n, w_vals, φ, β, c = model\n",
    "\n",
    "    v = [v_1(w, model) for w in w_vals]\n",
    "    w_star = res_wage(model)\n",
    "    s = np.maximum(c, w_vals)\n",
    "    continuation_val = c + β * np.sum(s * φ)\n",
    "    min_w, max_w = np.min(w_vals), np.max(w_vals)\n",
    "\n",
    "    fontdict = {'fontsize': 10}\n",
    "    fig, ax = plt.subplots(figsize=(9, 5.5))\n",
    "    ax.set_ylim(0, 120)\n",
    "    ax.set_xlim(min_w, max_w)\n",
    "    ax.vlines((w_star,), (0,), (continuation_val,), lw=0.5)\n",
    "    ax.set_yticks((0, 50, 100))\n",
    "    ax.set_yticklabels((0, 50, 100), fontdict=fontdict)\n",
    "    ax.set_xticks((min_w, w_star, max_w))\n",
    "    ax.set_xticklabels((min_w, r\"$w^*_1$\", max_w), fontdict=fontdict)\n",
    "    ax.plot(w_vals, w_vals + β * w_vals, alpha=0.8, linewidth=3,\n",
    "            label=r\"$w_1 + \\beta w_1$\")\n",
    "    ax.plot(w_vals, [continuation_val]*(n+1), linewidth=3, alpha=0.8,\n",
    "            label=r\"$c + \\beta \\sum_{w'} \\max\\{c, w'\\} \\varphi(w')$\" )\n",
    "    ax.plot(w_vals, v, \"k--\", markersize=2, alpha=1.0, linewidth=2,\n",
    "            label=r\"$v_1(w_1)$\")\n",
    "    ax.legend(frameon=False, fontsize=fs, loc=\"upper left\")\n",
    "    if savefig:\n",
    "        fig.savefig(figname)"
   ]
  },
  {
   "cell_type": "code",
   "execution_count": 29,
   "id": "b0c02d63",
   "metadata": {},
   "outputs": [
    {
     "data": {
      "image/png": "[encoded data removed]",
      "text/plain": [
       "<Figure size 900x550 with 1 Axes>"
      ]
     },
     "metadata": {},
     "output_type": "display_data"
    }
   ],
   "source": [
    "fig_v1()"
   ]
  },
  {
   "cell_type": "markdown",
   "id": "0f8cb604",
   "metadata": {},
   "source": [
    "## Three Period Job Search Model"
   ]
  },
  {
   "cell_type": "markdown",
   "id": "8ab6123d",
   "metadata": {},
   "source": [
    "$$\n",
    "v_{2}\\left(w_{3}\\right)=\\max\\left\\{ c,w_{2}\\right\\}  \\\\\n",
    "v_{t}\\left(w_{t}\\right)=\\max\\left\\{ w_{t}+\\sum_{i=1}^{T-t}\\beta^{i}w_{t},c+\\beta\\sum_{w^{\\prime}\\in W}v_{t+1}\\left(w^{\\prime}\\right)\\varphi\\left(w^{\\prime}\\right)\\right\\} ,\\quad t=0,1\n",
    "$$"
   ]
  },
  {
   "cell_type": "code",
   "execution_count": 30,
   "id": "d044e925",
   "metadata": {},
   "outputs": [],
   "source": [
    "# @njit\n",
    "# def v_1(w, model):\n",
    "#     \"\"\"\n",
    "#     Computes lifetime value at t=1 given current wage w_1 = w\n",
    "#     \"\"\"\n",
    "#     β, c = model.β, model.c\n",
    "#     s = np.maximum(c, model.w_vals)          # which is v2\n",
    "#     h_1 = c + β * np.sum(s * model.φ)\n",
    "#     return np.maximum(w + β * w, h_1)"
   ]
  },
  {
   "cell_type": "code",
   "execution_count": 31,
   "id": "89b7128f",
   "metadata": {},
   "outputs": [],
   "source": [
    "@njit\n",
    "def v_t(w, t, v_next, model):\n",
    "    \"\"\"\n",
    "    Computes lifetime value at t given current wage w_t = w and v_{t+1}\n",
    "    \"\"\"\n",
    "    β, c = model.β, model.c\n",
    "    h_t = c + β * np.sum(v_next * model.φ)\n",
    "    z_t = w * (β ** np.arange(0, 3-t, 1)).sum()\n",
    "    return np.maximum(z_t, h_t)"
   ]
  },
  {
   "cell_type": "code",
   "execution_count": 32,
   "id": "e4716996",
   "metadata": {},
   "outputs": [
    {
     "data": {
      "text/plain": [
       "<matplotlib.legend.Legend at 0x7f5e27edc190>"
      ]
     },
     "execution_count": 32,
     "metadata": {},
     "output_type": "execute_result"
    },
    {
     "data": {
      "image/png": "[encoded data removed]",
      "text/plain": [
       "<Figure size 640x480 with 1 Axes>"
      ]
     },
     "metadata": {},
     "output_type": "display_data"
    }
   ],
   "source": [
    "v2 = np.maximum(c, w_vals)\n",
    "\n",
    "plt.plot(w_vals, v2, label='v2')\n",
    "plt.legend()"
   ]
  },
  {
   "cell_type": "code",
   "execution_count": 33,
   "id": "b85f9a25",
   "metadata": {},
   "outputs": [
    {
     "data": {
      "text/plain": [
       "<matplotlib.legend.Legend at 0x7f5e27a3c0a0>"
      ]
     },
     "execution_count": 33,
     "metadata": {},
     "output_type": "execute_result"
    },
    {
     "data": {
      "image/png": "[encoded data removed]",
      "text/plain": [
       "<Figure size 640x480 with 1 Axes>"
      ]
     },
     "metadata": {},
     "output_type": "display_data"
    }
   ],
   "source": [
    "t = 1\n",
    "v1 = np.array([v_t(w, t, v2, model) for w in w_vals])\n",
    "\n",
    "plt.plot(w_vals, v2, label='v2')\n",
    "plt.plot(w_vals, v1, label='v1')\n",
    "plt.legend()"
   ]
  },
  {
   "cell_type": "code",
   "execution_count": 34,
   "id": "dc1f0ef6",
   "metadata": {},
   "outputs": [
    {
     "data": {
      "text/plain": [
       "1.4210854715202004e-14"
      ]
     },
     "execution_count": 34,
     "metadata": {},
     "output_type": "execute_result"
    }
   ],
   "source": [
    "np.max(np.abs(v1 - v))"
   ]
  },
  {
   "cell_type": "code",
   "execution_count": 35,
   "id": "5492ed24",
   "metadata": {
    "scrolled": false
   },
   "outputs": [
    {
     "data": {
      "text/plain": [
       "<matplotlib.legend.Legend at 0x7f5e279476d0>"
      ]
     },
     "execution_count": 35,
     "metadata": {},
     "output_type": "execute_result"
    },
    {
     "data": {
      "image/png": "[encoded data removed]",
      "text/plain": [
       "<Figure size 640x480 with 1 Axes>"
      ]
     },
     "metadata": {},
     "output_type": "display_data"
    }
   ],
   "source": [
    "t = 0\n",
    "v0 = np.array([v_t(w, t, v1, model) for w in w_vals])\n",
    "\n",
    "plt.plot(w_vals, v0, label='v0')\n",
    "plt.plot(w_vals, v1, label='v1')\n",
    "plt.plot(w_vals, v2, label='v2')\n",
    "plt.legend()"
   ]
  },
  {
   "cell_type": "markdown",
   "id": "c5d4f3d0",
   "metadata": {},
   "source": [
    "Use array to circumvent the need of defining mulptile variable $v_{t}$."
   ]
  },
  {
   "cell_type": "code",
   "execution_count": 36,
   "id": "721f46e7",
   "metadata": {},
   "outputs": [
    {
     "data": {
      "text/plain": [
       "(51, 3)"
      ]
     },
     "execution_count": 36,
     "metadata": {},
     "output_type": "execute_result"
    }
   ],
   "source": [
    "T = 3\n",
    "v_arr = np.empty((model.w_vals.size, 3))\n",
    "\n",
    "v_arr.shape"
   ]
  },
  {
   "cell_type": "code",
   "execution_count": 45,
   "id": "0528471b",
   "metadata": {},
   "outputs": [],
   "source": [
    "# v2 = np.maximum(c, w_vals)\n",
    "v_arr[:, 2] = np.maximum(c, w_vals)\n",
    "\n",
    "t = 1\n",
    "v_arr[:, t] = np.array([v_t(w, t, v_arr[:, t+1], model) for w in w_vals])\n",
    "\n",
    "t = 0\n",
    "v_arr[:, t] = np.array([v_t(w, t, v_arr[:, t+1], model) for w in w_vals])"
   ]
  },
  {
   "cell_type": "code",
   "execution_count": 38,
   "id": "ef4f43ab",
   "metadata": {},
   "outputs": [
    {
     "data": {
      "text/plain": [
       "0.0"
      ]
     },
     "execution_count": 38,
     "metadata": {},
     "output_type": "execute_result"
    }
   ],
   "source": [
    "np.max(np.abs(v_arr[:, 2] - v2))"
   ]
  },
  {
   "cell_type": "code",
   "execution_count": 39,
   "id": "d492d7b5",
   "metadata": {},
   "outputs": [
    {
     "data": {
      "text/plain": [
       "0.0"
      ]
     },
     "execution_count": 39,
     "metadata": {},
     "output_type": "execute_result"
    }
   ],
   "source": [
    "np.max(np.abs(v_arr[:, 1] - v1))"
   ]
  },
  {
   "cell_type": "code",
   "execution_count": 40,
   "id": "f6733925",
   "metadata": {},
   "outputs": [
    {
     "data": {
      "text/plain": [
       "0.0"
      ]
     },
     "execution_count": 40,
     "metadata": {},
     "output_type": "execute_result"
    }
   ],
   "source": [
    "np.max(np.abs(v_arr[:, 0] - v0))"
   ]
  },
  {
   "cell_type": "markdown",
   "id": "71a5d7a1",
   "metadata": {},
   "source": [
    "# For loops"
   ]
  },
  {
   "cell_type": "code",
   "execution_count": 41,
   "id": "6037dc71",
   "metadata": {},
   "outputs": [
    {
     "name": "stdout",
     "output_type": "stream",
     "text": [
      "0\n",
      "1\n",
      "2\n",
      "3\n",
      "4\n",
      "5\n",
      "6\n",
      "7\n",
      "8\n",
      "9\n"
     ]
    }
   ],
   "source": [
    "for i in range(10):\n",
    "    print(i)"
   ]
  },
  {
   "cell_type": "code",
   "execution_count": 42,
   "id": "bcaf4ae3",
   "metadata": {},
   "outputs": [
    {
     "name": "stdout",
     "output_type": "stream",
     "text": [
      "0\n",
      "1\n",
      "2\n",
      "3\n",
      "4\n",
      "5\n",
      "6\n",
      "7\n",
      "8\n",
      "9\n"
     ]
    }
   ],
   "source": [
    "for i in range(0, 10, 1):\n",
    "    print(i)"
   ]
  },
  {
   "cell_type": "code",
   "execution_count": 43,
   "id": "b89c4787",
   "metadata": {},
   "outputs": [
    {
     "name": "stdout",
     "output_type": "stream",
     "text": [
      "9\n",
      "8\n",
      "7\n",
      "6\n",
      "5\n",
      "4\n",
      "3\n",
      "2\n",
      "1\n",
      "0\n"
     ]
    }
   ],
   "source": [
    "for i in range(9, -1, -1):\n",
    "    print(i)"
   ]
  },
  {
   "cell_type": "markdown",
   "id": "529b1bd7",
   "metadata": {},
   "source": [
    "## Q. How to compute N period Job Search Model?"
   ]
  },
  {
   "cell_type": "markdown",
   "id": "156bc054",
   "metadata": {},
   "source": [
    "Where to put `N`? => `Model.N`\n",
    "\n",
    "Prepare numpy matrix `v` (of what size)?  \n",
    "compute `v[N-1]`  \n",
    "$t \\leftarrow N-2$  \n",
    "while $t \\geq 0$ do  \n",
    "   compute `v[t]` using `v[t+1]`  \n",
    "   $t \\leftarrow t-1$  \n",
    "end  "
   ]
  },
  {
   "cell_type": "code",
   "execution_count": null,
   "id": "db93795d",
   "metadata": {},
   "outputs": [],
   "source": []
  }
 ],
 "metadata": {
  "kernelspec": {
   "display_name": "Python [conda env:quantecon]",
   "language": "python",
   "name": "conda-env-quantecon-py"
  },
  "language_info": {
   "codemirror_mode": {
    "name": "ipython",
    "version": 3
   },
   "file_extension": ".py",
   "mimetype": "text/x-python",
   "name": "python",
   "nbconvert_exporter": "python",
   "pygments_lexer": "ipython3",
   "version": "3.10.13"
  }
 },
 "nbformat": 4,
 "nbformat_minor": 5
}
