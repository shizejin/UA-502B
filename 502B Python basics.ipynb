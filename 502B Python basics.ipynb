{
 "cells": [
  {
   "cell_type": "code",
   "execution_count": 1,
   "id": "eea54db7",
   "metadata": {},
   "outputs": [],
   "source": [
    "import numpy as np\n",
    "from scipy.integrate import fixed_quad\n",
    "from scipy.interpolate import CubicSpline\n",
    "import matplotlib.pyplot as plt\n",
    "import quantecon as qe\n",
    "from numba import njit"
   ]
  },
  {
   "cell_type": "markdown",
   "id": "cd40c72b",
   "metadata": {},
   "source": [
    "## Solve linear equation system"
   ]
  },
  {
   "cell_type": "markdown",
   "id": "b7d1c4f0",
   "metadata": {},
   "source": [
    "$$\n",
    "\\underset{A}{\\underbrace{\\left[\\begin{array}{ccc}\n",
    "1 & 2 & 3\\\\\n",
    "2 & 1 & 0\\\\\n",
    "4 & 2 & 1\n",
    "\\end{array}\\right]}}x=\\underset{b}{\\underbrace{\\left[\\begin{array}{c}\n",
    "1\\\\\n",
    "0\\\\\n",
    "3\n",
    "\\end{array}\\right]}}\n",
    "$$"
   ]
  },
  {
   "cell_type": "code",
   "execution_count": 2,
   "id": "12d62dd2",
   "metadata": {},
   "outputs": [],
   "source": [
    "A = np.array([[1, 2, 3],\n",
    "              [2, 1, 0],\n",
    "              [4, 2, 1]])\n",
    "\n",
    "b = np.array([[1, 0, 3]]).T"
   ]
  },
  {
   "cell_type": "markdown",
   "id": "3fed05df",
   "metadata": {},
   "source": [
    "$$\n",
    "x=A^{-1}b\n",
    "$$"
   ]
  },
  {
   "cell_type": "code",
   "execution_count": 3,
   "id": "4d5c5a11",
   "metadata": {},
   "outputs": [],
   "source": [
    "# np.linalg.inv?"
   ]
  },
  {
   "cell_type": "code",
   "execution_count": 4,
   "id": "c5690b20",
   "metadata": {},
   "outputs": [
    {
     "data": {
      "text/plain": [
       "array([[ 2.66666667],\n",
       "       [-5.33333333],\n",
       "       [ 3.        ]])"
      ]
     },
     "execution_count": 4,
     "metadata": {},
     "output_type": "execute_result"
    }
   ],
   "source": [
    "x = np.linalg.inv(A) @ b\n",
    "\n",
    "x"
   ]
  },
  {
   "cell_type": "code",
   "execution_count": 5,
   "id": "f7deaa7d",
   "metadata": {},
   "outputs": [
    {
     "data": {
      "text/plain": [
       "array([[0.],\n",
       "       [0.],\n",
       "       [0.]])"
      ]
     },
     "execution_count": 5,
     "metadata": {},
     "output_type": "execute_result"
    }
   ],
   "source": [
    "A @ x - b"
   ]
  },
  {
   "cell_type": "code",
   "execution_count": 6,
   "id": "dcd0c7f7",
   "metadata": {},
   "outputs": [],
   "source": [
    "# np.linalg.solve?"
   ]
  },
  {
   "cell_type": "code",
   "execution_count": 7,
   "id": "a313f76e",
   "metadata": {},
   "outputs": [
    {
     "data": {
      "text/plain": [
       "array([[ 2.66666667],\n",
       "       [-5.33333333],\n",
       "       [ 3.        ]])"
      ]
     },
     "execution_count": 7,
     "metadata": {},
     "output_type": "execute_result"
    }
   ],
   "source": [
    "np.linalg.solve(A, b)"
   ]
  },
  {
   "cell_type": "code",
   "execution_count": 8,
   "id": "771959d4",
   "metadata": {},
   "outputs": [
    {
     "name": "stdout",
     "output_type": "stream",
     "text": [
      "TOC: Elapsed: 0:00:0.00\n"
     ]
    },
    {
     "data": {
      "text/plain": [
       "0.00034332275390625"
      ]
     },
     "execution_count": 8,
     "metadata": {},
     "output_type": "execute_result"
    }
   ],
   "source": [
    "qe.tic()\n",
    "np.linalg.inv(A) @ b\n",
    "qe.toc()"
   ]
  },
  {
   "cell_type": "code",
   "execution_count": 9,
   "id": "e7fa5f3d",
   "metadata": {},
   "outputs": [
    {
     "name": "stdout",
     "output_type": "stream",
     "text": [
      "TOC: Elapsed: 0:00:0.00\n"
     ]
    },
    {
     "data": {
      "text/plain": [
       "0.00012183189392089844"
      ]
     },
     "execution_count": 9,
     "metadata": {},
     "output_type": "execute_result"
    }
   ],
   "source": [
    "qe.tic()\n",
    "np.linalg.solve(A, b)\n",
    "qe.toc()"
   ]
  },
  {
   "cell_type": "code",
   "execution_count": 10,
   "id": "e45b35f9",
   "metadata": {},
   "outputs": [
    {
     "data": {
      "text/plain": [
       "((1000, 1000), (1000, 1))"
      ]
     },
     "execution_count": 10,
     "metadata": {},
     "output_type": "execute_result"
    }
   ],
   "source": [
    "np.random.seed(1234)\n",
    "\n",
    "N = 1000\n",
    "A_large = np.random.random((N, N))\n",
    "b_large = np.random.random((N, 1))\n",
    "\n",
    "A_large.shape, b_large.shape"
   ]
  },
  {
   "cell_type": "code",
   "execution_count": 11,
   "id": "944482ad",
   "metadata": {},
   "outputs": [
    {
     "data": {
      "text/plain": [
       "1000"
      ]
     },
     "execution_count": 11,
     "metadata": {},
     "output_type": "execute_result"
    }
   ],
   "source": [
    "np.linalg.matrix_rank(A_large)"
   ]
  },
  {
   "cell_type": "code",
   "execution_count": 12,
   "id": "5657a61c",
   "metadata": {},
   "outputs": [
    {
     "data": {
      "text/plain": [
       "1.7304907506954237e-13"
      ]
     },
     "execution_count": 12,
     "metadata": {},
     "output_type": "execute_result"
    }
   ],
   "source": [
    "np.max(np.abs(np.linalg.inv(A_large) @ b_large - np.linalg.solve(A_large, b_large)))"
   ]
  },
  {
   "cell_type": "code",
   "execution_count": 13,
   "id": "a63891a9",
   "metadata": {},
   "outputs": [
    {
     "name": "stdout",
     "output_type": "stream",
     "text": [
      "TOC: Elapsed: 0:00:0.05\n"
     ]
    },
    {
     "data": {
      "text/plain": [
       "0.05348396301269531"
      ]
     },
     "execution_count": 13,
     "metadata": {},
     "output_type": "execute_result"
    }
   ],
   "source": [
    "qe.tic()\n",
    "np.linalg.inv(A_large) @ b_large\n",
    "qe.toc()"
   ]
  },
  {
   "cell_type": "code",
   "execution_count": 14,
   "id": "7b50096f",
   "metadata": {},
   "outputs": [
    {
     "name": "stdout",
     "output_type": "stream",
     "text": [
      "TOC: Elapsed: 0:00:0.05\n"
     ]
    },
    {
     "data": {
      "text/plain": [
       "0.05081987380981445"
      ]
     },
     "execution_count": 14,
     "metadata": {},
     "output_type": "execute_result"
    }
   ],
   "source": [
    "qe.tic()\n",
    "np.linalg.solve(A_large, b_large)\n",
    "qe.toc()"
   ]
  },
  {
   "cell_type": "code",
   "execution_count": 15,
   "id": "8f7faef1",
   "metadata": {},
   "outputs": [],
   "source": [
    "@njit\n",
    "def linear_solver(A, b):\n",
    "\n",
    "    return np.linalg.inv(A_large) @ b_large"
   ]
  },
  {
   "cell_type": "code",
   "execution_count": 16,
   "id": "9d58cdbd",
   "metadata": {},
   "outputs": [
    {
     "name": "stdout",
     "output_type": "stream",
     "text": [
      "TOC: Elapsed: 0:00:1.15\n"
     ]
    },
    {
     "data": {
      "text/plain": [
       "1.1543972492218018"
      ]
     },
     "execution_count": 16,
     "metadata": {},
     "output_type": "execute_result"
    }
   ],
   "source": [
    "qe.tic()\n",
    "linear_solver(A_large, b_large);\n",
    "qe.toc()"
   ]
  },
  {
   "cell_type": "code",
   "execution_count": 17,
   "id": "cbe4f548",
   "metadata": {},
   "outputs": [
    {
     "name": "stdout",
     "output_type": "stream",
     "text": [
      "TOC: Elapsed: 0:00:0.09\n"
     ]
    },
    {
     "data": {
      "text/plain": [
       "0.09473347663879395"
      ]
     },
     "execution_count": 17,
     "metadata": {},
     "output_type": "execute_result"
    }
   ],
   "source": [
    "qe.tic()\n",
    "linear_solver(A_large, b_large);\n",
    "qe.toc()"
   ]
  },
  {
   "cell_type": "markdown",
   "id": "6480f8bf",
   "metadata": {},
   "source": [
    "## Solve nonlinear equation system"
   ]
  },
  {
   "cell_type": "code",
   "execution_count": null,
   "id": "7d55d503",
   "metadata": {},
   "outputs": [],
   "source": []
  },
  {
   "cell_type": "markdown",
   "id": "754194d6",
   "metadata": {},
   "source": [
    "## Optimization"
   ]
  },
  {
   "cell_type": "code",
   "execution_count": null,
   "id": "5d8d72aa",
   "metadata": {},
   "outputs": [],
   "source": []
  },
  {
   "cell_type": "markdown",
   "id": "e2addd38",
   "metadata": {},
   "source": [
    "## Quadrature"
   ]
  },
  {
   "cell_type": "markdown",
   "id": "0c494e0b",
   "metadata": {},
   "source": [
    "To compute\n",
    "\n",
    "$$\n",
    "\\int_{-\\infty}^{\\infty} f\\left(x\\right) dx\n",
    "$$\n",
    "\n",
    "where $x\\sim\\left(0, 1\\right)$"
   ]
  },
  {
   "cell_type": "markdown",
   "id": "e52d436d",
   "metadata": {},
   "source": [
    "It can be approximated by\n",
    "\n",
    "$$\n",
    "\\sum_{i=1}^{n}\\frac{\\omega_{i}}{\\sqrt{\\pi}}f\\left(\\mu+\\sqrt{2}\\sigma\\zeta_{i}\\right)\n",
    "$$"
   ]
  },
  {
   "cell_type": "code",
   "execution_count": 18,
   "id": "750d991a",
   "metadata": {},
   "outputs": [],
   "source": [
    "μ = 0\n",
    "σ = 1"
   ]
  },
  {
   "cell_type": "code",
   "execution_count": 19,
   "id": "6eca2152",
   "metadata": {},
   "outputs": [],
   "source": [
    "@njit\n",
    "def f_integrad(x, λ0, λ1, λ2):\n",
    "\n",
    "    return λ0 + λ1 * x + λ2 * x**2"
   ]
  },
  {
   "cell_type": "code",
   "execution_count": 20,
   "id": "53ed189b",
   "metadata": {},
   "outputs": [],
   "source": [
    "λ0, λ1, λ2 = 0.5, 0.2, 0.3"
   ]
  },
  {
   "cell_type": "code",
   "execution_count": 21,
   "id": "f5647e92",
   "metadata": {},
   "outputs": [],
   "source": [
    "# Gaussian-Hermite quadrature nodes and weights for order 5\n",
    "ζ_nodes = np.array([0,\n",
    "                    0.958572464613819,\n",
    "                    -0.958572464613819,\n",
    "                    0.202018287045609,\n",
    "                    -0.202018287045609])\n",
    "\n",
    "ω_weights = np.array([0.945308720482942,\n",
    "                      0.393619323152241,\n",
    "                      0.393619323152241,\n",
    "                      0.0199532420590459,\n",
    "                      0.0199532420590459])"
   ]
  },
  {
   "cell_type": "code",
   "execution_count": 22,
   "id": "3e5a5503",
   "metadata": {},
   "outputs": [
    {
     "data": {
      "text/plain": [
       "0.7454196465070009"
      ]
     },
     "execution_count": 22,
     "metadata": {},
     "output_type": "execute_result"
    }
   ],
   "source": [
    "np.sum(ω_weights / np.sqrt(np.pi) * f_integrad(μ + np.sqrt(2) * σ * ζ_nodes, λ0, λ1, λ2))"
   ]
  },
  {
   "cell_type": "code",
   "execution_count": 23,
   "id": "e0ef99d3",
   "metadata": {},
   "outputs": [],
   "source": [
    "# Gaussian-Hermite quadrature nodes and weights for order 10\n",
    "ζ_nodes = np.array([0.342901327223704609,\n",
    "                    -0.342901327223704609,\n",
    "                    1.03661082978951365,\n",
    "                    -1.03661082978951365,\n",
    "                    1.75668364929988177,\n",
    "                    -1.75668364929988177,\n",
    "                    2.53273167423278980,\n",
    "                    -2.53273167423278980,\n",
    "                    3.43615911883773760,\n",
    "                    -3.43615911883773760])\n",
    "\n",
    "ω_weights = np.array([0.610862633735325799,\n",
    "                      0.610862633735325799,\n",
    "                      0.240138611082314686,\n",
    "                      0.240138611082314686,\n",
    "                      0.0338743944554810631,\n",
    "                      0.0338743944554810631,\n",
    "                      0.00134364574678123269,\n",
    "                      0.00134364574678123269,\n",
    "                      0.764043285523262063e-5,\n",
    "                      0.764043285523262063e-5])"
   ]
  },
  {
   "cell_type": "code",
   "execution_count": 24,
   "id": "ad203c23",
   "metadata": {},
   "outputs": [
    {
     "data": {
      "text/plain": [
       "0.8000000000000002"
      ]
     },
     "execution_count": 24,
     "metadata": {},
     "output_type": "execute_result"
    }
   ],
   "source": [
    "np.sum(ω_weights / np.sqrt(np.pi) * f_integrad(μ + np.sqrt(2) * σ * ζ_nodes, λ0, λ1, λ2))"
   ]
  },
  {
   "cell_type": "markdown",
   "id": "92bd54b9",
   "metadata": {},
   "source": [
    "## Simulation based integration"
   ]
  },
  {
   "cell_type": "code",
   "execution_count": 34,
   "id": "c380654d",
   "metadata": {},
   "outputs": [],
   "source": [
    "x_normal = np.random.normal(size=10000)"
   ]
  },
  {
   "cell_type": "code",
   "execution_count": 35,
   "id": "053d25da",
   "metadata": {},
   "outputs": [
    {
     "data": {
      "image/png": "[encoded data removed]",
      "text/plain": [
       "<Figure size 640x480 with 1 Axes>"
      ]
     },
     "metadata": {},
     "output_type": "display_data"
    }
   ],
   "source": [
    "plt.hist(x_normal, bins=np.linspace(-2, 2, 20));"
   ]
  },
  {
   "cell_type": "code",
   "execution_count": 36,
   "id": "d61a7739",
   "metadata": {},
   "outputs": [
    {
     "data": {
      "text/plain": [
       "0.8007853140118009"
      ]
     },
     "execution_count": 36,
     "metadata": {},
     "output_type": "execute_result"
    }
   ],
   "source": [
    "f_integrad(x_normal, λ0, λ1, λ2).mean()"
   ]
  },
  {
   "cell_type": "markdown",
   "id": "395ce5f0",
   "metadata": {},
   "source": [
    "## Cubic spline interpolation"
   ]
  },
  {
   "cell_type": "code",
   "execution_count": 28,
   "id": "aff7c240",
   "metadata": {},
   "outputs": [],
   "source": [
    "x = np.arange(10)\n",
    "y = np.sin(x)"
   ]
  },
  {
   "cell_type": "code",
   "execution_count": 29,
   "id": "03804c45",
   "metadata": {},
   "outputs": [
    {
     "data": {
      "text/plain": [
       "<scipy.interpolate._cubic.CubicSpline at 0x7fe8cb5d2480>"
      ]
     },
     "execution_count": 29,
     "metadata": {},
     "output_type": "execute_result"
    }
   ],
   "source": [
    "cs = CubicSpline(x, y)\n",
    "\n",
    "cs"
   ]
  },
  {
   "cell_type": "code",
   "execution_count": 37,
   "id": "94e6318e",
   "metadata": {},
   "outputs": [
    {
     "data": {
      "text/plain": [
       "<matplotlib.legend.Legend at 0x7fe8c8a95780>"
      ]
     },
     "execution_count": 37,
     "metadata": {},
     "output_type": "execute_result"
    },
    {
     "data": {
      "image/png": "[encoded data removed]",
      "text/plain": [
       "<Figure size 640x480 with 1 Axes>"
      ]
     },
     "metadata": {},
     "output_type": "display_data"
    }
   ],
   "source": [
    "fig = plt.figure()\n",
    "\n",
    "xs = np.arange(-0.5, 9.6, 0.1)\n",
    "\n",
    "plt.plot(x, y, 'o', label='data')\n",
    "plt.plot(xs, np.sin(xs), label='true')\n",
    "plt.plot(xs, cs(xs), label=\"S\")\n",
    "\n",
    "plt.legend()"
   ]
  },
  {
   "cell_type": "code",
   "execution_count": null,
   "id": "4d4edb9b",
   "metadata": {},
   "outputs": [],
   "source": []
  }
 ],
 "metadata": {
  "kernelspec": {
   "display_name": "Python [conda env:quantecon]",
   "language": "python",
   "name": "conda-env-quantecon-py"
  },
  "language_info": {
   "codemirror_mode": {
    "name": "ipython",
    "version": 3
   },
   "file_extension": ".py",
   "mimetype": "text/x-python",
   "name": "python",
   "nbconvert_exporter": "python",
   "pygments_lexer": "ipython3",
   "version": "3.10.13"
  }
 },
 "nbformat": 4,
 "nbformat_minor": 5
}
