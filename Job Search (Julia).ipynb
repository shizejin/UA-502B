{
 "cells": [
  {
   "cell_type": "code",
   "execution_count": 1,
   "id": "f7cbab32",
   "metadata": {},
   "outputs": [],
   "source": [
    "using Distributions\n",
    "\n",
    "using PyPlot\n",
    "using LaTeXStrings\n",
    "PyPlot.matplotlib[:rc](\"text\", usetex=true) # allow tex rendering"
   ]
  },
  {
   "cell_type": "code",
   "execution_count": 2,
   "id": "58b0968e",
   "metadata": {},
   "outputs": [
    {
     "name": "stdout",
     "output_type": "stream",
     "text": [
      "search: \u001b[0m\u001b[1mB\u001b[22m\u001b[0m\u001b[1me\u001b[22m\u001b[0m\u001b[1mt\u001b[22m\u001b[0m\u001b[1ma\u001b[22m\u001b[0m\u001b[1mB\u001b[22m\u001b[0m\u001b[1mi\u001b[22m\u001b[0m\u001b[1mn\u001b[22m\u001b[0m\u001b[1mo\u001b[22m\u001b[0m\u001b[1mm\u001b[22m\u001b[0m\u001b[1mi\u001b[22m\u001b[0m\u001b[1ma\u001b[22m\u001b[0m\u001b[1ml\u001b[22m\n",
      "\n"
     ]
    },
    {
     "data": {
      "text/latex": [
       "\\begin{verbatim}\n",
       "BetaBinomial(n,α,β)\n",
       "\\end{verbatim}\n",
       "A \\emph{Beta-binomial distribution} is the compound distribution of the \\href{@ref}{\\texttt{Binomial}} distribution where the probability of success \\texttt{p} is distributed according to the \\href{@ref}{\\texttt{Beta}}. It has three parameters: \\texttt{n}, the number of trials and two shape parameters \\texttt{α}, \\texttt{β}\n",
       "\n",
       "$$P(X = k) = {n \\choose k} B(k + \\alpha, n - k + \\beta) / B(\\alpha, \\beta),  \\quad \\text{ for } k = 0,1,2, \\ldots, n.$$\n",
       "\\begin{verbatim}\n",
       "BetaBinomial(n, α, β)      # BetaBinomial distribution with n trials and shape parameters α, β\n",
       "\n",
       "params(d)       # Get the parameters, i.e. (n, α, β)\n",
       "ntrials(d)      # Get the number of trials, i.e. n\n",
       "\\end{verbatim}\n",
       "External links:\n",
       "\n",
       "\\begin{itemize}\n",
       "\\item \\href{https://en.wikipedia.org/wiki/Beta-binomial_distribution}{Beta-binomial distribution on Wikipedia}\n",
       "\n",
       "\\end{itemize}\n"
      ],
      "text/markdown": [
       "```\n",
       "BetaBinomial(n,α,β)\n",
       "```\n",
       "\n",
       "A *Beta-binomial distribution* is the compound distribution of the [`Binomial`](@ref) distribution where the probability of success `p` is distributed according to the [`Beta`](@ref). It has three parameters: `n`, the number of trials and two shape parameters `α`, `β`\n",
       "\n",
       "$$\n",
       "P(X = k) = {n \\choose k} B(k + \\alpha, n - k + \\beta) / B(\\alpha, \\beta),  \\quad \\text{ for } k = 0,1,2, \\ldots, n.\n",
       "$$\n",
       "\n",
       "```julia\n",
       "BetaBinomial(n, α, β)      # BetaBinomial distribution with n trials and shape parameters α, β\n",
       "\n",
       "params(d)       # Get the parameters, i.e. (n, α, β)\n",
       "ntrials(d)      # Get the number of trials, i.e. n\n",
       "```\n",
       "\n",
       "External links:\n",
       "\n",
       "  * [Beta-binomial distribution on Wikipedia](https://en.wikipedia.org/wiki/Beta-binomial_distribution)\n"
      ],
      "text/plain": [
       "\u001b[36m  BetaBinomial(n,α,β)\u001b[39m\n",
       "\n",
       "  A \u001b[4mBeta-binomial distribution\u001b[24m is the compound distribution of the \u001b[36mBinomial\u001b[39m\n",
       "  distribution where the probability of success \u001b[36mp\u001b[39m is distributed according to\n",
       "  the \u001b[36mBeta\u001b[39m. It has three parameters: \u001b[36mn\u001b[39m, the number of trials and two shape\n",
       "  parameters \u001b[36mα\u001b[39m, \u001b[36mβ\u001b[39m\n",
       "\n",
       "\u001b[35m  P(X = k) = {n \\choose k} B(k + \\alpha, n - k + \\beta) / B(\\alpha, \\beta),  \\quad \\text{ for } k = 0,1,2, \\ldots, n.\u001b[39m\n",
       "\n",
       "\u001b[36m  BetaBinomial(n, α, β)      # BetaBinomial distribution with n trials and shape parameters α, β\u001b[39m\n",
       "\u001b[36m  \u001b[39m\n",
       "\u001b[36m  params(d)       # Get the parameters, i.e. (n, α, β)\u001b[39m\n",
       "\u001b[36m  ntrials(d)      # Get the number of trials, i.e. n\u001b[39m\n",
       "\n",
       "  External links:\n",
       "\n",
       "    •  Beta-binomial distribution on Wikipedia\n",
       "       (https://en.wikipedia.org/wiki/Beta-binomial_distribution)"
      ]
     },
     "execution_count": 2,
     "metadata": {},
     "output_type": "execute_result"
    }
   ],
   "source": [
    "?BetaBinomial"
   ]
  },
  {
   "cell_type": "code",
   "execution_count": 3,
   "id": "efee51a1",
   "metadata": {},
   "outputs": [
    {
     "data": {
      "text/plain": [
       "create_job_search_model (generic function with 1 method)"
      ]
     },
     "execution_count": 3,
     "metadata": {},
     "output_type": "execute_result"
    }
   ],
   "source": [
    "function create_job_search_model(;\n",
    "        n=50,        # wage grid size\n",
    "        w_min=10.0,  # lowest wage\n",
    "        w_max=60.0,  # highest wage\n",
    "        a=200,       # wage distribution parameter\n",
    "        b=100,       # wage distribution parameter\n",
    "        β=0.96,      # discount factor\n",
    "        c=10.0       # unemployment compensation\n",
    "    )\n",
    "    w_vals = collect(LinRange(w_min, w_max, n+1))\n",
    "    ϕ = pdf(BetaBinomial(n, a, b))\n",
    "    return (; n, w_vals, ϕ, β, c)\n",
    "end"
   ]
  },
  {
   "cell_type": "code",
   "execution_count": 4,
   "id": "f5cb9fae",
   "metadata": {},
   "outputs": [
    {
     "data": {
      "text/plain": [
       "(n = 50, w_vals = [10.0, 11.0, 12.0, 12.999999999999998, 14.0, 15.0, 16.0, 17.0, 18.0, 19.0  …  50.99999999999999, 52.0, 53.0, 54.0, 55.0, 56.0, 57.0, 57.99999999999999, 59.0, 60.0], ϕ = [1.1791637357224694e-21, 7.913850575319274e-20, 2.6332268350101137e-18, 5.789516415479376e-17, 9.458523308234368e-16, 1.2242590720614904e-14, 1.3071516133990144e-13, 1.1836186037811116e-12, 9.274110204450374e-12, 6.384446552094514e-11  …  0.010598963589205658, 0.005068155208330153, 0.0021325686770979047, 0.0007777657203566439, 0.00024098391843431559, 6.170679349541527e-5, 1.2542756620427359e-5, 1.8983216208610164e-6, 1.902540965744981e-7, 9.474654009410618e-9], β = 0.96, c = 10.0)"
      ]
     },
     "execution_count": 4,
     "metadata": {},
     "output_type": "execute_result"
    }
   ],
   "source": [
    "model = create_job_search_model()"
   ]
  },
  {
   "cell_type": "code",
   "execution_count": 5,
   "id": "f5695347",
   "metadata": {},
   "outputs": [
    {
     "data": {
      "text/plain": [
       "NamedTuple{(:n, :w_vals, :ϕ, :β, :c), Tuple{Int64, Vector{Float64}, Vector{Float64}, Float64, Float64}}"
      ]
     },
     "execution_count": 5,
     "metadata": {},
     "output_type": "execute_result"
    }
   ],
   "source": [
    "typeof(model)"
   ]
  },
  {
   "cell_type": "code",
   "execution_count": 6,
   "id": "cab46def",
   "metadata": {},
   "outputs": [
    {
     "data": {
      "text/plain": [
       "(n = 50, w_vals = [10.0, 11.0, 12.0, 12.999999999999998, 14.0, 15.0, 16.0, 17.0, 18.0, 19.0  …  50.99999999999999, 52.0, 53.0, 54.0, 55.0, 56.0, 57.0, 57.99999999999999, 59.0, 60.0], ϕ = [1.1791637357224694e-21, 7.913850575319274e-20, 2.6332268350101137e-18, 5.789516415479376e-17, 9.458523308234368e-16, 1.2242590720614904e-14, 1.3071516133990144e-13, 1.1836186037811116e-12, 9.274110204450374e-12, 6.384446552094514e-11  …  0.010598963589205658, 0.005068155208330153, 0.0021325686770979047, 0.0007777657203566439, 0.00024098391843431559, 6.170679349541527e-5, 1.2542756620427359e-5, 1.8983216208610164e-6, 1.902540965744981e-7, 9.474654009410618e-9], β = 0.96, c = 10.0)"
      ]
     },
     "execution_count": 6,
     "metadata": {},
     "output_type": "execute_result"
    }
   ],
   "source": [
    "(; n, w_vals, ϕ, β, c) = model"
   ]
  },
  {
   "cell_type": "code",
   "execution_count": 7,
   "id": "09e482aa",
   "metadata": {},
   "outputs": [],
   "source": [
    "(; n, w_vals, ϕ, β, c) = model;"
   ]
  },
  {
   "cell_type": "code",
   "execution_count": 8,
   "id": "6ca82bff",
   "metadata": {},
   "outputs": [
    {
     "data": {
      "text/plain": [
       "(51,)"
      ]
     },
     "execution_count": 8,
     "metadata": {},
     "output_type": "execute_result"
    }
   ],
   "source": [
    "size(w_vals)"
   ]
  },
  {
   "cell_type": "code",
   "execution_count": 9,
   "id": "fd00790d",
   "metadata": {},
   "outputs": [
    {
     "data": {
      "text/plain": [
       "51-element Vector{Float64}:\n",
       " 10.0\n",
       " 11.0\n",
       " 12.0\n",
       " 12.999999999999998\n",
       " 14.0\n",
       " 15.0\n",
       " 16.0\n",
       " 17.0\n",
       " 18.0\n",
       " 19.0\n",
       " 20.0\n",
       " 21.0\n",
       " 22.0\n",
       "  ⋮\n",
       " 49.00000000000001\n",
       " 50.0\n",
       " 50.99999999999999\n",
       " 52.0\n",
       " 53.0\n",
       " 54.0\n",
       " 55.0\n",
       " 56.0\n",
       " 57.0\n",
       " 57.99999999999999\n",
       " 59.0\n",
       " 60.0"
      ]
     },
     "execution_count": 9,
     "metadata": {},
     "output_type": "execute_result"
    }
   ],
   "source": [
    "w_vals"
   ]
  },
  {
   "cell_type": "code",
   "execution_count": 10,
   "id": "cba7fddb",
   "metadata": {},
   "outputs": [
    {
     "data": {
      "text/plain": [
       "(51,)"
      ]
     },
     "execution_count": 10,
     "metadata": {},
     "output_type": "execute_result"
    }
   ],
   "source": [
    "size(ϕ)"
   ]
  },
  {
   "cell_type": "code",
   "execution_count": 11,
   "id": "aaf25652",
   "metadata": {},
   "outputs": [
    {
     "data": {
      "text/plain": [
       "51-element Vector{Float64}:\n",
       " 1.1791637357224694e-21\n",
       " 7.913850575319274e-20\n",
       " 2.6332268350101137e-18\n",
       " 5.789516415479376e-17\n",
       " 9.458523308234368e-16\n",
       " 1.2242590720614904e-14\n",
       " 1.3071516133990144e-13\n",
       " 1.1836186037811116e-12\n",
       " 9.274110204450374e-12\n",
       " 6.384446552094514e-11\n",
       " 3.9077373217785535e-10\n",
       " 2.1468275672291524e-9\n",
       " 1.06680217697672e-8\n",
       " ⋮\n",
       " 0.03303121916328912\n",
       " 0.019736153450067906\n",
       " 0.010598963589205658\n",
       " 0.005068155208330153\n",
       " 0.0021325686770979047\n",
       " 0.0007777657203566439\n",
       " 0.00024098391843431559\n",
       " 6.170679349541527e-5\n",
       " 1.2542756620427359e-5\n",
       " 1.8983216208610164e-6\n",
       " 1.902540965744981e-7\n",
       " 9.474654009410618e-9"
      ]
     },
     "execution_count": 11,
     "metadata": {},
     "output_type": "execute_result"
    }
   ],
   "source": [
    "ϕ"
   ]
  },
  {
   "cell_type": "code",
   "execution_count": 12,
   "id": "56a04ddb",
   "metadata": {},
   "outputs": [
    {
     "data": {
      "image/png": "[encoded data removed]",
      "text/plain": [
       "Figure(PyObject <Figure size 640x480 with 1 Axes>)"
      ]
     },
     "metadata": {},
     "output_type": "display_data"
    }
   ],
   "source": [
    "plt.plot(w_vals, ϕ);"
   ]
  },
  {
   "cell_type": "code",
   "execution_count": 13,
   "id": "967e88ea",
   "metadata": {},
   "outputs": [
    {
     "data": {
      "text/plain": [
       "0.9999999999999913"
      ]
     },
     "execution_count": 13,
     "metadata": {},
     "output_type": "execute_result"
    }
   ],
   "source": [
    "sum(ϕ)"
   ]
  },
  {
   "cell_type": "code",
   "execution_count": 14,
   "id": "93b9d8d9",
   "metadata": {},
   "outputs": [
    {
     "data": {
      "text/plain": [
       "0.9999999999913403"
      ]
     },
     "execution_count": 14,
     "metadata": {},
     "output_type": "execute_result"
    }
   ],
   "source": [
    "sum(ϕ) ^ 1000"
   ]
  },
  {
   "cell_type": "code",
   "execution_count": 15,
   "id": "0972f500",
   "metadata": {},
   "outputs": [
    {
     "data": {
      "text/plain": [
       "51-element Vector{Float64}:\n",
       " 1.1791637357224796e-21\n",
       " 7.913850575319343e-20\n",
       " 2.6332268350101364e-18\n",
       " 5.789516415479427e-17\n",
       " 9.458523308234451e-16\n",
       " 1.224259072061501e-14\n",
       " 1.3071516133990257e-13\n",
       " 1.183618603781122e-12\n",
       " 9.274110204450455e-12\n",
       " 6.384446552094569e-11\n",
       " 3.907737321778587e-10\n",
       " 2.146827567229171e-9\n",
       " 1.0668021769767293e-8\n",
       " ⋮\n",
       " 0.0330312191632894\n",
       " 0.019736153450068076\n",
       " 0.01059896358920575\n",
       " 0.005068155208330197\n",
       " 0.0021325686770979234\n",
       " 0.0007777657203566507\n",
       " 0.00024098391843431767\n",
       " 6.17067934954158e-5\n",
       " 1.2542756620427467e-5\n",
       " 1.8983216208610329e-6\n",
       " 1.9025409657449973e-7\n",
       " 9.474654009410701e-9"
      ]
     },
     "execution_count": 15,
     "metadata": {},
     "output_type": "execute_result"
    }
   ],
   "source": [
    "ϕ_norm = ϕ / sum(ϕ)"
   ]
  },
  {
   "cell_type": "code",
   "execution_count": 16,
   "id": "b9d32060",
   "metadata": {},
   "outputs": [
    {
     "data": {
      "text/plain": [
       "1.0"
      ]
     },
     "execution_count": 16,
     "metadata": {},
     "output_type": "execute_result"
    }
   ],
   "source": [
    "sum(ϕ_norm)"
   ]
  },
  {
   "cell_type": "markdown",
   "id": "5755f546",
   "metadata": {},
   "source": [
    "$$\n",
    "v_{1}\\left(w_{1}\\right)\t=\\max\\left\\{ w_{1}+\\beta w_{1},c+\\beta\\sum_{w^{\\prime}\\in W}v_{2}\\left(w^{\\prime}\\right)\\varphi\\left(w^{\\prime}\\right)\\right\\} \n",
    "\t=\\max\\left\\{ w_{1}+\\beta w_{1},h_{1}\\right\\} \\\\\n",
    "v_{2}\\left(w\\right)=\\max\\left\\{ c,w\\right\\} \\\\\n",
    "$$"
   ]
  },
  {
   "cell_type": "code",
   "execution_count": 17,
   "id": "0978d9b9",
   "metadata": {},
   "outputs": [
    {
     "data": {
      "text/plain": [
       "51-element Vector{Float64}:\n",
       " 10.0\n",
       " 11.0\n",
       " 12.0\n",
       " 12.999999999999998\n",
       " 14.0\n",
       " 15.0\n",
       " 16.0\n",
       " 17.0\n",
       " 18.0\n",
       " 19.0\n",
       " 20.0\n",
       " 21.0\n",
       " 22.0\n",
       "  ⋮\n",
       " 49.00000000000001\n",
       " 50.0\n",
       " 50.99999999999999\n",
       " 52.0\n",
       " 53.0\n",
       " 54.0\n",
       " 55.0\n",
       " 56.0\n",
       " 57.0\n",
       " 57.99999999999999\n",
       " 59.0\n",
       " 60.0"
      ]
     },
     "execution_count": 17,
     "metadata": {},
     "output_type": "execute_result"
    }
   ],
   "source": [
    "max.(c, w_vals)"
   ]
  },
  {
   "cell_type": "code",
   "execution_count": 18,
   "id": "1cf2ef34",
   "metadata": {},
   "outputs": [
    {
     "data": {
      "text/plain": [
       "1×51 adjoint(::Vector{Float64}) with eltype Float64:\n",
       " 10.0  11.0  12.0  13.0  14.0  15.0  …  55.0  56.0  57.0  58.0  59.0  60.0"
      ]
     },
     "execution_count": 18,
     "metadata": {},
     "output_type": "execute_result"
    }
   ],
   "source": [
    "max.(c, w_vals)'"
   ]
  },
  {
   "cell_type": "code",
   "execution_count": 19,
   "id": "e4ffefe9",
   "metadata": {},
   "outputs": [
    {
     "data": {
      "text/plain": [
       "43.33333333333285"
      ]
     },
     "execution_count": 19,
     "metadata": {},
     "output_type": "execute_result"
    }
   ],
   "source": [
    "max.(c, w_vals)'ϕ"
   ]
  },
  {
   "cell_type": "code",
   "execution_count": 20,
   "id": "ed564680",
   "metadata": {},
   "outputs": [
    {
     "data": {
      "text/plain": [
       "v_1"
      ]
     },
     "execution_count": 20,
     "metadata": {},
     "output_type": "execute_result"
    }
   ],
   "source": [
    "\" Computes lifetime value at t=1 given current wage w_1 = w. \"\n",
    "function v_1(w, model)\n",
    "    (; n, w_vals, ϕ, β, c) = model\n",
    "    h_1 = c + β * max.(c, w_vals)'ϕ\n",
    "    return max(w + β * w, h_1)\n",
    "end"
   ]
  },
  {
   "cell_type": "markdown",
   "id": "ac53be1d",
   "metadata": {},
   "source": [
    "$$\n",
    "w_{1}^{*}:=\\frac{h_{1}}{1+\\beta}\n",
    "$$"
   ]
  },
  {
   "cell_type": "code",
   "execution_count": 21,
   "id": "59e6c64d",
   "metadata": {},
   "outputs": [
    {
     "data": {
      "text/plain": [
       "res_wage"
      ]
     },
     "execution_count": 21,
     "metadata": {},
     "output_type": "execute_result"
    }
   ],
   "source": [
    "\" Computes reservation wage at t=1. \"\n",
    "function res_wage(model)\n",
    "    (; n, w_vals, ϕ, β, c) = model\n",
    "    h_1 = c + β * max.(c, w_vals)'ϕ\n",
    "    return h_1 / (1 + β)\n",
    "end"
   ]
  },
  {
   "cell_type": "code",
   "execution_count": 22,
   "id": "aac258d6",
   "metadata": {},
   "outputs": [
    {
     "data": {
      "text/plain": [
       "26.326530612244664"
      ]
     },
     "execution_count": 22,
     "metadata": {},
     "output_type": "execute_result"
    }
   ],
   "source": [
    "w_star = res_wage(model)\n",
    "\n",
    "w_star"
   ]
  },
  {
   "cell_type": "code",
   "execution_count": 23,
   "id": "09b42129",
   "metadata": {},
   "outputs": [
    {
     "data": {
      "image/png": "[encoded data removed]",
      "text/plain": [
       "Figure(PyObject <Figure size 640x480 with 1 Axes>)"
      ]
     },
     "metadata": {},
     "output_type": "display_data"
    },
    {
     "data": {
      "text/plain": [
       "1-element Vector{PyCall.PyObject}:\n",
       " PyObject <matplotlib.lines.Line2D object at 0x7f9ee3e2f2e0>"
      ]
     },
     "execution_count": 23,
     "metadata": {},
     "output_type": "execute_result"
    }
   ],
   "source": [
    "v = [v_1(w, model) for w in model.w_vals]\n",
    "\n",
    "plt.plot(w_vals, v)"
   ]
  },
  {
   "cell_type": "code",
   "execution_count": 24,
   "id": "ce56cc46",
   "metadata": {},
   "outputs": [
    {
     "data": {
      "text/plain": [
       "fig_v1"
      ]
     },
     "execution_count": 24,
     "metadata": {},
     "output_type": "execute_result"
    }
   ],
   "source": [
    "# == Plots == #\n",
    "\n",
    "default_model = create_job_search_model()\n",
    "\n",
    "\" Plot the distribution of wages. \"\n",
    "function fig_dist(model=default_model, fs=14)\n",
    "    fig, ax = plt.subplots()\n",
    "    ax.plot(model.w_vals, model.ϕ, \"-o\", alpha=0.5, label=\"wage distribution\")\n",
    "    ax.legend(loc=\"upper left\", fontsize=fs)\n",
    "end\n",
    "\n",
    "\n",
    "\" Plot two-period value function and res wage. \"\n",
    "function fig_v1(model=default_model; savefig=false, \n",
    "                  figname=\"./figures/iid_job_search_0.pdf\", fs=18)\n",
    "\n",
    "    (; n, w_vals, ϕ, β, c) = model\n",
    "\n",
    "    v = [v_1(w, model) for w in model.w_vals]\n",
    "    w_star = res_wage(model)\n",
    "    continuation_val = c + β * max.(c, w_vals)'ϕ\n",
    "    min_w, max_w = minimum(w_vals), maximum(w_vals)\n",
    "\n",
    "    fig, ax = plt.subplots(figsize=(9, 5.5))\n",
    "    ax.set_ylim(0, 120)\n",
    "    ax.set_xlim(min_w, max_w)\n",
    "    ax.vlines((w_star,), (0,), (continuation_val,), lw=0.5)\n",
    "    ax.set_yticks((0, 50, 100))\n",
    "    ax.set_yticklabels((0, 50, 100), fontsize=12)\n",
    "    ax.set_xticks((min_w, w_star, max_w))\n",
    "    ax.set_xticklabels((min_w, L\"$w^*_1$\", max_w), fontsize=12)\n",
    "    ax.plot(w_vals, w_vals + β * w_vals, \"-\", alpha=0.8, lw=3, \n",
    "            label=L\"$w_1 + \\beta w_1$\")\n",
    "    ax.plot(w_vals, fill(continuation_val, n+1), lw=3, alpha=0.8, \n",
    "            label=L\"$c + \\beta \\sum_{w'} \\max\\{c, w'\\} \\varphi(w')$\" )\n",
    "    ax.plot(w_vals, v, \"k--\", ms=2, alpha=1.0, lw=2, label=L\"$v_1(w_1)$\")\n",
    "    ax.legend(frameon=false, fontsize=fs, loc=\"upper left\")\n",
    "    if savefig\n",
    "        fig.savefig(figname)\n",
    "    end\n",
    "end"
   ]
  },
  {
   "cell_type": "code",
   "execution_count": 25,
   "id": "98147c70",
   "metadata": {},
   "outputs": [
    {
     "data": {
      "image/png": "[encoded data removed]",
      "text/plain": [
       "Figure(PyObject <Figure size 900x550 with 1 Axes>)"
      ]
     },
     "metadata": {},
     "output_type": "display_data"
    }
   ],
   "source": [
    "fig_v1()"
   ]
  },
  {
   "cell_type": "markdown",
   "id": "0f8cb604",
   "metadata": {},
   "source": [
    "## Three Period Job Search Model"
   ]
  },
  {
   "cell_type": "markdown",
   "id": "8ab6123d",
   "metadata": {},
   "source": [
    "$$\n",
    "v_{2}\\left(w_{2}\\right)=\\max\\left\\{ c,w_{2}\\right\\}  \\\\\n",
    "v_{t}\\left(w_{t}\\right)=\\max\\left\\{ w_{t}+\\sum_{i=1}^{T-t}\\beta^{i}w_{t},c+\\beta\\sum_{w^{\\prime}\\in W}v_{t+1}\\left(w^{\\prime}\\right)\\varphi\\left(w^{\\prime}\\right)\\right\\} ,\\quad t=0,1\n",
    "$$"
   ]
  },
  {
   "cell_type": "code",
   "execution_count": 26,
   "id": "e5a1c159",
   "metadata": {},
   "outputs": [],
   "source": [
    "# \" Computes lifetime value at t=1 given current wage w_1 = w. \"\n",
    "# function v_1(w, model)\n",
    "#     (; n, w_vals, ϕ, β, c) = model\n",
    "#     h_1 = c + β * max.(c, w_vals)'ϕ\n",
    "#     return max(w + β * w, h_1)\n",
    "# end"
   ]
  },
  {
   "cell_type": "code",
   "execution_count": 27,
   "id": "21537738",
   "metadata": {},
   "outputs": [
    {
     "data": {
      "text/plain": [
       "v_t"
      ]
     },
     "execution_count": 27,
     "metadata": {},
     "output_type": "execute_result"
    }
   ],
   "source": [
    "\" Computes lifetime value at t=1 given current wage w_t = w and v_{t+1}.\"\n",
    "function v_t(w, t, v_next, model)\n",
    "    (; n, w_vals, ϕ, β, c) = model\n",
    "    h_t = c + β * v_next'ϕ\n",
    "    z_t = w * sum(β .^ collect(0:1:3-t-1))\n",
    "    return max.(z_t, h_t)\n",
    "end"
   ]
  },
  {
   "cell_type": "code",
   "execution_count": 28,
   "id": "930839a4",
   "metadata": {},
   "outputs": [
    {
     "data": {
      "image/png": "[encoded data removed]",
      "text/plain": [
       "Figure(PyObject <Figure size 640x480 with 1 Axes>)"
      ]
     },
     "metadata": {},
     "output_type": "display_data"
    },
    {
     "data": {
      "text/plain": [
       "PyObject <matplotlib.legend.Legend object at 0x7f9ee5f323e0>"
      ]
     },
     "execution_count": 28,
     "metadata": {},
     "output_type": "execute_result"
    }
   ],
   "source": [
    "v2 = max.(c, w_vals)\n",
    "\n",
    "plt.plot(w_vals, v2, label=\"v2\")\n",
    "plt.legend()"
   ]
  },
  {
   "cell_type": "code",
   "execution_count": 29,
   "id": "91a51c4f",
   "metadata": {},
   "outputs": [
    {
     "data": {
      "image/png": "[encoded data removed]",
      "text/plain": [
       "Figure(PyObject <Figure size 640x480 with 1 Axes>)"
      ]
     },
     "metadata": {},
     "output_type": "display_data"
    },
    {
     "data": {
      "text/plain": [
       "PyObject <matplotlib.legend.Legend object at 0x7f9ee5fa9b10>"
      ]
     },
     "execution_count": 29,
     "metadata": {},
     "output_type": "execute_result"
    }
   ],
   "source": [
    "t = 1\n",
    "v1 = [v_t(w, t, v2, model) for w in w_vals]\n",
    "\n",
    "plt.plot(w_vals, v2, label=\"v2\")\n",
    "plt.plot(w_vals, v1, label=\"v1\")\n",
    "plt.legend()"
   ]
  },
  {
   "cell_type": "code",
   "execution_count": 30,
   "id": "180a5ea0",
   "metadata": {},
   "outputs": [
    {
     "data": {
      "text/plain": [
       "1.4210854715202004e-14"
      ]
     },
     "execution_count": 30,
     "metadata": {},
     "output_type": "execute_result"
    }
   ],
   "source": [
    "maximum(abs.(v1 - v))"
   ]
  },
  {
   "cell_type": "code",
   "execution_count": 31,
   "id": "9abfd959",
   "metadata": {},
   "outputs": [
    {
     "data": {
      "image/png": "[encoded data removed]",
      "text/plain": [
       "Figure(PyObject <Figure size 640x480 with 1 Axes>)"
      ]
     },
     "metadata": {},
     "output_type": "display_data"
    },
    {
     "data": {
      "text/plain": [
       "PyObject <matplotlib.legend.Legend object at 0x7f9ee3c43400>"
      ]
     },
     "execution_count": 31,
     "metadata": {},
     "output_type": "execute_result"
    }
   ],
   "source": [
    "t = 0\n",
    "v0 = [v_t(w, t, v1, model) for w in w_vals]\n",
    "\n",
    "plt.plot(w_vals, v0, label=\"v0\")\n",
    "plt.plot(w_vals, v1, label=\"v1\")\n",
    "plt.plot(w_vals, v2, label=\"v2\")\n",
    "plt.legend()"
   ]
  },
  {
   "cell_type": "markdown",
   "id": "c5d4f3d0",
   "metadata": {},
   "source": [
    "Use array to circumvent the need of defining mulptile variable $v_{t}$."
   ]
  },
  {
   "cell_type": "code",
   "execution_count": 32,
   "id": "e58bc907",
   "metadata": {},
   "outputs": [
    {
     "data": {
      "text/plain": [
       "(51, 3)"
      ]
     },
     "execution_count": 32,
     "metadata": {},
     "output_type": "execute_result"
    }
   ],
   "source": [
    "N = 3\n",
    "v_arr = Array{Float64}(undef, length(w_vals), N)\n",
    "\n",
    "size(v_arr)"
   ]
  },
  {
   "cell_type": "code",
   "execution_count": 33,
   "id": "22536e2c",
   "metadata": {},
   "outputs": [],
   "source": [
    "# v2 = np.maximum(c, w_vals)\n",
    "v_arr[:, 3] = max.(c, w_vals);\n",
    "\n",
    "t = 1\n",
    "v_arr[:, t+1] = [v_t(w, t, v_arr[:, t+1+1], model) for w in w_vals];\n",
    "\n",
    "t = 0\n",
    "v_arr[:, t+1] = [v_t(w, t, v_arr[:, t+1+1], model) for w in w_vals];"
   ]
  },
  {
   "cell_type": "code",
   "execution_count": 34,
   "id": "4cfdb64c",
   "metadata": {},
   "outputs": [
    {
     "data": {
      "text/plain": [
       "0.0"
      ]
     },
     "execution_count": 34,
     "metadata": {},
     "output_type": "execute_result"
    }
   ],
   "source": [
    "maximum(abs.(v_arr[:, 3] - v2))"
   ]
  },
  {
   "cell_type": "code",
   "execution_count": 35,
   "id": "c68f54c7",
   "metadata": {},
   "outputs": [
    {
     "data": {
      "text/plain": [
       "0.0"
      ]
     },
     "execution_count": 35,
     "metadata": {},
     "output_type": "execute_result"
    }
   ],
   "source": [
    "maximum(abs.(v_arr[:, 2] - v1))"
   ]
  },
  {
   "cell_type": "code",
   "execution_count": 36,
   "id": "a0388a1d",
   "metadata": {},
   "outputs": [
    {
     "data": {
      "text/plain": [
       "0.0"
      ]
     },
     "execution_count": 36,
     "metadata": {},
     "output_type": "execute_result"
    }
   ],
   "source": [
    "maximum(abs.(v_arr[:, 1] - v0))"
   ]
  },
  {
   "cell_type": "markdown",
   "id": "71a5d7a1",
   "metadata": {},
   "source": [
    "# For loops"
   ]
  },
  {
   "cell_type": "code",
   "execution_count": 37,
   "id": "0a9896b5",
   "metadata": {},
   "outputs": [
    {
     "name": "stdout",
     "output_type": "stream",
     "text": [
      "0123456789"
     ]
    }
   ],
   "source": [
    "for i in 0:9\n",
    "    print(i)\n",
    "end"
   ]
  },
  {
   "cell_type": "code",
   "execution_count": 38,
   "id": "f0639fdd",
   "metadata": {},
   "outputs": [
    {
     "name": "stdout",
     "output_type": "stream",
     "text": [
      "0123456789"
     ]
    }
   ],
   "source": [
    "for i in 0:1:9\n",
    "    print(i)\n",
    "end"
   ]
  },
  {
   "cell_type": "code",
   "execution_count": 39,
   "id": "d150e4b0",
   "metadata": {},
   "outputs": [
    {
     "name": "stdout",
     "output_type": "stream",
     "text": [
      "9876543210"
     ]
    }
   ],
   "source": [
    "for i in 9:-1:0\n",
    "    print(i)\n",
    "end"
   ]
  },
  {
   "cell_type": "markdown",
   "id": "c43ff844",
   "metadata": {},
   "source": [
    "## Q. How to compute N period Job Search Model?"
   ]
  },
  {
   "cell_type": "markdown",
   "id": "1201dbe0",
   "metadata": {},
   "source": [
    "Where to put `N`? => `Model.N`\n",
    "\n",
    "Prepare numpy matrix `v` (of what size)?  \n",
    "compute `v[N-1]`  \n",
    "$t \\leftarrow N-2$  \n",
    "while $t \\geq 0$ do  \n",
    "   compute `v[t]` using `v[t+1]`  \n",
    "   $t \\leftarrow t-1$  \n",
    "end  "
   ]
  },
  {
   "cell_type": "code",
   "execution_count": 40,
   "id": "d4291137",
   "metadata": {},
   "outputs": [
    {
     "ename": "LoadError",
     "evalue": "syntax: invalid identifier name \"...\"",
     "output_type": "error",
     "traceback": [
      "syntax: invalid identifier name \"...\"",
      "",
      "Stacktrace:",
      " [1] top-level scope",
      "   @ In[40]:1"
     ]
    }
   ],
   "source": [
    "function backwards_induction(...)\n",
    "\n",
    "    # unpack model parameters\n",
    "\n",
    "    # initialization\n",
    "\n",
    "    # compute v[N-1]\n",
    "\n",
    "    # for loop, compute v[N-2], v[N-3], ..., v[0]\n",
    "\n",
    "    return ...\n",
    "end"
   ]
  },
  {
   "cell_type": "code",
   "execution_count": null,
   "id": "6a965549",
   "metadata": {},
   "outputs": [],
   "source": []
  }
 ],
 "metadata": {
  "kernelspec": {
   "display_name": "Julia 1.9.0",
   "language": "julia",
   "name": "julia-1.9"
  },
  "language_info": {
   "file_extension": ".jl",
   "mimetype": "application/julia",
   "name": "julia",
   "version": "1.9.0"
  }
 },
 "nbformat": 4,
 "nbformat_minor": 5
}
