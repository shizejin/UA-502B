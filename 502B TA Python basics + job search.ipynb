{
 "cells": [
  {
   "cell_type": "code",
   "execution_count": 6,
   "id": "3f900418",
   "metadata": {},
   "outputs": [],
   "source": [
    "import scipy"
   ]
  },
  {
   "cell_type": "code",
   "execution_count": 4,
   "id": "62d4fdc4",
   "metadata": {},
   "outputs": [],
   "source": [
    "import numpy as np\n",
    "from scipy.optimize import root_scalar, root, minimize, Bounds, LinearConstraint, NonlinearConstraint, dual_annealing\n",
    "from scipy.integrate import fixed_quad\n",
    "from scipy.interpolate import CubicSpline\n",
    "import matplotlib.pyplot as plt\n",
    "import quantecon as qe\n",
    "from numba import njit"
   ]
  },
  {
   "cell_type": "markdown",
   "id": "f9321f12",
   "metadata": {},
   "source": [
    "## Solve linear equation system"
   ]
  },
  {
   "cell_type": "markdown",
   "id": "b1b47a36",
   "metadata": {},
   "source": [
    "$$\n",
    "\\underset{A}{\\underbrace{\\left[\\begin{array}{ccc}\n",
    "1 & 2 & 3\\\\\n",
    "2 & 1 & 0\\\\\n",
    "4 & 2 & 1\n",
    "\\end{array}\\right]}}x=\\underset{b}{\\underbrace{\\left[\\begin{array}{c}\n",
    "1\\\\\n",
    "0\\\\\n",
    "3\n",
    "\\end{array}\\right]}}\n",
    "$$"
   ]
  },
  {
   "cell_type": "code",
   "execution_count": 2,
   "id": "c15ff9ac",
   "metadata": {},
   "outputs": [],
   "source": [
    "A = np.array([[1, 2, 3],\n",
    "              [2, 1, 0],\n",
    "              [4, 2, 1]])\n",
    "\n",
    "b = np.array([[1, 0, 3]]).T\n",
    "\n",
    "# alternatively\n",
    "# b = np.array([[1],\n",
    "#               [0],\n",
    "#               [3]])\n",
    "\n",
    "# the wrong way, one dimensional array\n",
    "# b = np.array([1, 0, 3]).T"
   ]
  },
  {
   "cell_type": "markdown",
   "id": "a07f359a",
   "metadata": {},
   "source": [
    "$$\n",
    "x=A^{-1}b\n",
    "$$"
   ]
  },
  {
   "cell_type": "markdown",
   "id": "cbd03910",
   "metadata": {},
   "source": [
    "`numpy.linalg`: https://numpy.org/doc/stable/reference/routines.linalg.html"
   ]
  },
  {
   "cell_type": "code",
   "execution_count": 3,
   "id": "73d40090",
   "metadata": {},
   "outputs": [],
   "source": [
    "# np.linalg.inv?"
   ]
  },
  {
   "cell_type": "code",
   "execution_count": 4,
   "id": "8771a347",
   "metadata": {},
   "outputs": [
    {
     "data": {
      "text/plain": [
       "array([[ 2.66666667],\n",
       "       [-5.33333333],\n",
       "       [ 3.        ]])"
      ]
     },
     "execution_count": 4,
     "metadata": {},
     "output_type": "execute_result"
    }
   ],
   "source": [
    "x = np.linalg.inv(A) @ b\n",
    "\n",
    "x"
   ]
  },
  {
   "cell_type": "code",
   "execution_count": 5,
   "id": "953dbef6",
   "metadata": {},
   "outputs": [
    {
     "data": {
      "text/plain": [
       "array([[0.],\n",
       "       [0.],\n",
       "       [0.]])"
      ]
     },
     "execution_count": 5,
     "metadata": {},
     "output_type": "execute_result"
    }
   ],
   "source": [
    "A @ x - b"
   ]
  },
  {
   "cell_type": "code",
   "execution_count": 6,
   "id": "e8e07b47",
   "metadata": {},
   "outputs": [
    {
     "data": {
      "text/plain": [
       "array([[0.],\n",
       "       [0.],\n",
       "       [0.]])"
      ]
     },
     "execution_count": 6,
     "metadata": {},
     "output_type": "execute_result"
    }
   ],
   "source": [
    "np.dot(A, x) - b"
   ]
  },
  {
   "cell_type": "code",
   "execution_count": 7,
   "id": "c2d9385f",
   "metadata": {},
   "outputs": [],
   "source": [
    "# np.linalg.solve?"
   ]
  },
  {
   "cell_type": "code",
   "execution_count": 8,
   "id": "60335b9e",
   "metadata": {},
   "outputs": [
    {
     "data": {
      "text/plain": [
       "array([[ 2.66666667],\n",
       "       [-5.33333333],\n",
       "       [ 3.        ]])"
      ]
     },
     "execution_count": 8,
     "metadata": {},
     "output_type": "execute_result"
    }
   ],
   "source": [
    "np.linalg.solve(A, b)"
   ]
  },
  {
   "cell_type": "code",
   "execution_count": 9,
   "id": "d4239437",
   "metadata": {},
   "outputs": [
    {
     "name": "stdout",
     "output_type": "stream",
     "text": [
      "TOC: Elapsed: 0:00:0.00\n"
     ]
    },
    {
     "data": {
      "text/plain": [
       "0.00031828880310058594"
      ]
     },
     "execution_count": 9,
     "metadata": {},
     "output_type": "execute_result"
    }
   ],
   "source": [
    "qe.tic()\n",
    "np.linalg.inv(A) @ b\n",
    "qe.toc()"
   ]
  },
  {
   "cell_type": "code",
   "execution_count": 10,
   "id": "d01d1c9a",
   "metadata": {},
   "outputs": [
    {
     "name": "stdout",
     "output_type": "stream",
     "text": [
      "TOC: Elapsed: 0:00:0.00\n"
     ]
    },
    {
     "data": {
      "text/plain": [
       "0.0007255077362060547"
      ]
     },
     "execution_count": 10,
     "metadata": {},
     "output_type": "execute_result"
    }
   ],
   "source": [
    "qe.tic()\n",
    "np.linalg.solve(A, b)\n",
    "qe.toc()"
   ]
  },
  {
   "cell_type": "code",
   "execution_count": 12,
   "id": "f067f8d2",
   "metadata": {},
   "outputs": [
    {
     "data": {
      "text/plain": [
       "((1000, 1000), (1000, 1))"
      ]
     },
     "execution_count": 12,
     "metadata": {},
     "output_type": "execute_result"
    }
   ],
   "source": [
    "np.random.seed(1234)\n",
    "\n",
    "N = 1000\n",
    "A_large = np.random.random((N, N))\n",
    "b_large = np.random.random((N, 1))\n",
    "\n",
    "A_large.shape, b_large.shape"
   ]
  },
  {
   "cell_type": "code",
   "execution_count": 12,
   "id": "ab973e01",
   "metadata": {},
   "outputs": [
    {
     "data": {
      "text/plain": [
       "1000"
      ]
     },
     "execution_count": 12,
     "metadata": {},
     "output_type": "execute_result"
    }
   ],
   "source": [
    "np.linalg.matrix_rank(A_large)"
   ]
  },
  {
   "cell_type": "code",
   "execution_count": 13,
   "id": "754d9704",
   "metadata": {},
   "outputs": [
    {
     "data": {
      "text/plain": [
       "1.7304907506954237e-13"
      ]
     },
     "execution_count": 13,
     "metadata": {},
     "output_type": "execute_result"
    }
   ],
   "source": [
    "np.max(np.abs(np.linalg.inv(A_large) @ b_large - np.linalg.solve(A_large, b_large)))"
   ]
  },
  {
   "cell_type": "code",
   "execution_count": 14,
   "id": "3aee4de2",
   "metadata": {},
   "outputs": [
    {
     "name": "stdout",
     "output_type": "stream",
     "text": [
      "TOC: Elapsed: 0:00:0.22\n"
     ]
    },
    {
     "data": {
      "text/plain": [
       "0.2215886116027832"
      ]
     },
     "execution_count": 14,
     "metadata": {},
     "output_type": "execute_result"
    }
   ],
   "source": [
    "qe.tic()\n",
    "np.linalg.inv(A_large) @ b_large\n",
    "qe.toc()"
   ]
  },
  {
   "cell_type": "code",
   "execution_count": 15,
   "id": "2ef0806a",
   "metadata": {},
   "outputs": [
    {
     "name": "stdout",
     "output_type": "stream",
     "text": [
      "TOC: Elapsed: 0:00:0.55\n"
     ]
    },
    {
     "data": {
      "text/plain": [
       "0.5505948066711426"
      ]
     },
     "execution_count": 15,
     "metadata": {},
     "output_type": "execute_result"
    }
   ],
   "source": [
    "qe.tic()\n",
    "np.linalg.solve(A_large, b_large)\n",
    "qe.toc()"
   ]
  },
  {
   "cell_type": "markdown",
   "id": "1ea527d4",
   "metadata": {},
   "source": [
    "## Solve nonlinear equation system"
   ]
  },
  {
   "cell_type": "code",
   "execution_count": 13,
   "id": "eb11029b",
   "metadata": {},
   "outputs": [],
   "source": [
    "@njit\n",
    "def f_root(x, ϕ0, ϕ1, ϕ2):\n",
    "\n",
    "    return ϕ0 + ϕ1 * x + ϕ2 * x**2"
   ]
  },
  {
   "cell_type": "code",
   "execution_count": 14,
   "id": "9cb3110b",
   "metadata": {},
   "outputs": [],
   "source": [
    "ϕ0, ϕ1, ϕ2 = 1., 0.3, -0.07"
   ]
  },
  {
   "cell_type": "code",
   "execution_count": 18,
   "id": "77abe9a2",
   "metadata": {},
   "outputs": [
    {
     "data": {
      "text/plain": [
       "array([-5.        , -4.84848485, -4.6969697 , -4.54545455, -4.39393939,\n",
       "       -4.24242424, -4.09090909, -3.93939394, -3.78787879, -3.63636364,\n",
       "       -3.48484848, -3.33333333, -3.18181818, -3.03030303, -2.87878788,\n",
       "       -2.72727273, -2.57575758, -2.42424242, -2.27272727, -2.12121212,\n",
       "       -1.96969697, -1.81818182, -1.66666667, -1.51515152, -1.36363636,\n",
       "       -1.21212121, -1.06060606, -0.90909091, -0.75757576, -0.60606061,\n",
       "       -0.45454545, -0.3030303 , -0.15151515,  0.        ,  0.15151515,\n",
       "        0.3030303 ,  0.45454545,  0.60606061,  0.75757576,  0.90909091,\n",
       "        1.06060606,  1.21212121,  1.36363636,  1.51515152,  1.66666667,\n",
       "        1.81818182,  1.96969697,  2.12121212,  2.27272727,  2.42424242,\n",
       "        2.57575758,  2.72727273,  2.87878788,  3.03030303,  3.18181818,\n",
       "        3.33333333,  3.48484848,  3.63636364,  3.78787879,  3.93939394,\n",
       "        4.09090909,  4.24242424,  4.39393939,  4.54545455,  4.6969697 ,\n",
       "        4.84848485,  5.        ,  5.15151515,  5.3030303 ,  5.45454545,\n",
       "        5.60606061,  5.75757576,  5.90909091,  6.06060606,  6.21212121,\n",
       "        6.36363636,  6.51515152,  6.66666667,  6.81818182,  6.96969697,\n",
       "        7.12121212,  7.27272727,  7.42424242,  7.57575758,  7.72727273,\n",
       "        7.87878788,  8.03030303,  8.18181818,  8.33333333,  8.48484848,\n",
       "        8.63636364,  8.78787879,  8.93939394,  9.09090909,  9.24242424,\n",
       "        9.39393939,  9.54545455,  9.6969697 ,  9.84848485, 10.        ])"
      ]
     },
     "execution_count": 18,
     "metadata": {},
     "output_type": "execute_result"
    }
   ],
   "source": [
    "x_range = np.linspace(-5, 10, 100)\n",
    "\n",
    "x_range"
   ]
  },
  {
   "cell_type": "code",
   "execution_count": 19,
   "id": "68414861",
   "metadata": {},
   "outputs": [
    {
     "data": {
      "text/plain": [
       "array([-2.25      , -2.10009183, -1.95339761, -1.80991736, -1.66965106,\n",
       "       -1.53259871, -1.39876033, -1.2681359 , -1.14072544, -1.01652893,\n",
       "       -0.89554637, -0.77777778, -0.66322314, -0.55188246, -0.44375574,\n",
       "       -0.33884298, -0.23714417, -0.13865932, -0.04338843,  0.0486685 ,\n",
       "        0.13751148,  0.2231405 ,  0.30555556,  0.38475666,  0.4607438 ,\n",
       "        0.53351699,  0.60307622,  0.66942149,  0.7325528 ,  0.79247016,\n",
       "        0.84917355,  0.90266299,  0.95293848,  1.        ,  1.04384757,\n",
       "        1.08448118,  1.12190083,  1.15610652,  1.18709826,  1.21487603,\n",
       "        1.23943985,  1.26078972,  1.27892562,  1.29384757,  1.30555556,\n",
       "        1.31404959,  1.31932966,  1.32139578,  1.32024793,  1.31588613,\n",
       "        1.30831038,  1.29752066,  1.28351699,  1.26629936,  1.24586777,\n",
       "        1.22222222,  1.19536272,  1.16528926,  1.13200184,  1.09550046,\n",
       "        1.05578512,  1.01285583,  0.96671258,  0.91735537,  0.86478421,\n",
       "        0.80899908,  0.75      ,  0.68778696,  0.62235996,  0.55371901,\n",
       "        0.4818641 ,  0.40679522,  0.3285124 ,  0.24701561,  0.16230487,\n",
       "        0.07438017, -0.01675849, -0.11111111, -0.20867769, -0.30945822,\n",
       "       -0.41345271, -0.52066116, -0.63108356, -0.74471993, -0.86157025,\n",
       "       -0.98163453, -1.10491276, -1.23140496, -1.36111111, -1.49403122,\n",
       "       -1.63016529, -1.76951331, -1.9120753 , -2.05785124, -2.20684114,\n",
       "       -2.359045  , -2.51446281, -2.67309458, -2.83494031, -3.        ])"
      ]
     },
     "execution_count": 19,
     "metadata": {},
     "output_type": "execute_result"
    }
   ],
   "source": [
    "y = f_root(x_range, ϕ0, ϕ1, ϕ2)\n",
    "\n",
    "y"
   ]
  },
  {
   "cell_type": "code",
   "execution_count": 20,
   "id": "25970e9f",
   "metadata": {},
   "outputs": [
    {
     "data": {
      "text/plain": [
       "<matplotlib.legend.Legend at 0x7fe56cab6950>"
      ]
     },
     "execution_count": 20,
     "metadata": {},
     "output_type": "execute_result"
    },
    {
     "data": {
      "image/png": "[encoded data removed]",
      "text/plain": [
       "<Figure size 640x480 with 1 Axes>"
      ]
     },
     "metadata": {},
     "output_type": "display_data"
    }
   ],
   "source": [
    "plt.plot(x_range, y, label='y')\n",
    "plt.hlines(0, -5, 10, colors='r', linestyles='--')\n",
    "plt.legend()"
   ]
  },
  {
   "cell_type": "markdown",
   "id": "96e98281",
   "metadata": {},
   "source": [
    "Two sources of root finding and optimizing routines:\n",
    "\n",
    "1. `quantecon.optimize`: jitted, suitable for finding optimal continuous choice for each household. https://quanteconpy.readthedocs.io/en/latest/optimize.html\n",
    "2. `scipy.optimize`: nonjitted, suitable for estimation routines, such as SMM or MLE. https://docs.scipy.org/doc/scipy/reference/optimize.html"
   ]
  },
  {
   "cell_type": "markdown",
   "id": "703d5bc7",
   "metadata": {},
   "source": [
    "### quantecon"
   ]
  },
  {
   "cell_type": "code",
   "execution_count": 21,
   "id": "86fdfb0b",
   "metadata": {},
   "outputs": [],
   "source": [
    "qe.optimize.bisect?"
   ]
  },
  {
   "cell_type": "code",
   "execution_count": 22,
   "id": "3894c432",
   "metadata": {},
   "outputs": [
    {
     "data": {
      "text/plain": [
       "results(root=-2.201973235927653, function_calls=43, iterations=41, converged=True)"
      ]
     },
     "execution_count": 22,
     "metadata": {},
     "output_type": "execute_result"
    }
   ],
   "source": [
    "res = qe.optimize.bisect(f_root, -4, 0, args=(ϕ0, ϕ1, ϕ2))\n",
    "\n",
    "res"
   ]
  },
  {
   "cell_type": "code",
   "execution_count": 23,
   "id": "11eb118d",
   "metadata": {},
   "outputs": [
    {
     "data": {
      "text/plain": [
       "-2.201973235927653"
      ]
     },
     "execution_count": 23,
     "metadata": {},
     "output_type": "execute_result"
    }
   ],
   "source": [
    "res.root"
   ]
  },
  {
   "cell_type": "code",
   "execution_count": 24,
   "id": "8d115f5a",
   "metadata": {},
   "outputs": [
    {
     "data": {
      "text/plain": [
       "results(root=6.487687521641419, function_calls=44, iterations=42, converged=True)"
      ]
     },
     "execution_count": 24,
     "metadata": {},
     "output_type": "execute_result"
    }
   ],
   "source": [
    "qe.optimize.bisect(f_root, 8, 0, args=(ϕ0, ϕ1, ϕ2))"
   ]
  },
  {
   "cell_type": "markdown",
   "id": "055afca1",
   "metadata": {},
   "source": [
    "Brent's Method: a hybrid root-finding algorithm combining the bisection method, the secant method and inverse quadratic interpolation"
   ]
  },
  {
   "cell_type": "code",
   "execution_count": 25,
   "id": "752082d8",
   "metadata": {},
   "outputs": [
    {
     "data": {
      "text/plain": [
       "results(root=-2.201973235927299, function_calls=9, iterations=8, converged=True)"
      ]
     },
     "execution_count": 25,
     "metadata": {},
     "output_type": "execute_result"
    }
   ],
   "source": [
    "qe.optimize.brentq(f_root, -4, 0, args=(ϕ0, ϕ1, ϕ2))"
   ]
  },
  {
   "cell_type": "code",
   "execution_count": 26,
   "id": "da0774e5",
   "metadata": {},
   "outputs": [
    {
     "data": {
      "text/plain": [
       "results(root=6.487687521641584, function_calls=9, iterations=8, converged=True)"
      ]
     },
     "execution_count": 26,
     "metadata": {},
     "output_type": "execute_result"
    }
   ],
   "source": [
    "qe.optimize.brentq(f_root, 4, 8, args=(ϕ0, ϕ1, ϕ2))"
   ]
  },
  {
   "cell_type": "code",
   "execution_count": 27,
   "id": "63d821a4",
   "metadata": {},
   "outputs": [],
   "source": [
    "@njit\n",
    "def f_prime(x, ϕ0, ϕ1, ϕ2):\n",
    "\n",
    "    return ϕ1 + 2 * ϕ2 * x"
   ]
  },
  {
   "cell_type": "code",
   "execution_count": 28,
   "id": "11846473",
   "metadata": {},
   "outputs": [
    {
     "data": {
      "text/plain": [
       "results(root=-2.2019732359272997, function_calls=10, iterations=5, converged=True)"
      ]
     },
     "execution_count": 28,
     "metadata": {},
     "output_type": "execute_result"
    }
   ],
   "source": [
    "qe.optimize.newton(f_root, -4, f_prime, args=(ϕ0, ϕ1, ϕ2))"
   ]
  },
  {
   "cell_type": "code",
   "execution_count": 29,
   "id": "e3559066",
   "metadata": {},
   "outputs": [
    {
     "data": {
      "text/plain": [
       "results(root=6.487687521641585, function_calls=10, iterations=5, converged=True)"
      ]
     },
     "execution_count": 29,
     "metadata": {},
     "output_type": "execute_result"
    }
   ],
   "source": [
    "qe.optimize.newton(f_root, 8, f_prime, args=(ϕ0, ϕ1, ϕ2))"
   ]
  },
  {
   "cell_type": "code",
   "execution_count": 30,
   "id": "e98b0ab5",
   "metadata": {},
   "outputs": [
    {
     "data": {
      "text/plain": [
       "results(root=-2.2019732359273005, function_calls=7, iterations=6, converged=True)"
      ]
     },
     "execution_count": 30,
     "metadata": {},
     "output_type": "execute_result"
    }
   ],
   "source": [
    "qe.optimize.newton_secant(f_root, -4, args=(ϕ0, ϕ1, ϕ2))"
   ]
  },
  {
   "cell_type": "code",
   "execution_count": 31,
   "id": "58be50c4",
   "metadata": {},
   "outputs": [
    {
     "data": {
      "text/plain": [
       "results(root=6.487687521641585, function_calls=7, iterations=6, converged=True)"
      ]
     },
     "execution_count": 31,
     "metadata": {},
     "output_type": "execute_result"
    }
   ],
   "source": [
    "qe.optimize.newton_secant(f_root, 8, args=(ϕ0, ϕ1, ϕ2))"
   ]
  },
  {
   "cell_type": "markdown",
   "id": "a08e06e8",
   "metadata": {},
   "source": [
    "### scipy"
   ]
  },
  {
   "cell_type": "code",
   "execution_count": 32,
   "id": "7bb9c0ca",
   "metadata": {},
   "outputs": [
    {
     "data": {
      "text/plain": [
       "      converged: True\n",
       "           flag: converged\n",
       " function_calls: 7\n",
       "     iterations: 6\n",
       "           root: -2.2019732359273005\n",
       "         method: secant"
      ]
     },
     "execution_count": 32,
     "metadata": {},
     "output_type": "execute_result"
    }
   ],
   "source": [
    "root_scalar(f_root, x0=-4, args=(ϕ0, ϕ1, ϕ2), method='secant')"
   ]
  },
  {
   "cell_type": "code",
   "execution_count": 33,
   "id": "f253c186",
   "metadata": {},
   "outputs": [],
   "source": [
    "@njit\n",
    "def call_root_finding_qe(f, x0, args):\n",
    "    res = qe.optimize.newton_secant(f_root, x0, args=args)\n",
    "    return res"
   ]
  },
  {
   "cell_type": "code",
   "execution_count": 34,
   "id": "d8d029d0",
   "metadata": {},
   "outputs": [
    {
     "data": {
      "text/plain": [
       "results(root=-2.2019732359273005, function_calls=7, iterations=6, converged=True)"
      ]
     },
     "execution_count": 34,
     "metadata": {},
     "output_type": "execute_result"
    }
   ],
   "source": [
    "call_root_finding_qe(f_root, -4, (ϕ0, ϕ1, ϕ2))"
   ]
  },
  {
   "cell_type": "code",
   "execution_count": 35,
   "id": "10bb5182",
   "metadata": {},
   "outputs": [],
   "source": [
    "@njit\n",
    "def call_root_finding_sp(f, x0, args):\n",
    "    res = root_scalar(f_root, x0=x0, args=args, method='secant')\n",
    "    return res"
   ]
  },
  {
   "cell_type": "code",
   "execution_count": 36,
   "id": "06f628fb",
   "metadata": {},
   "outputs": [
    {
     "ename": "TypingError",
     "evalue": "Failed in nopython mode pipeline (step: nopython frontend)\n\u001b[1mUntyped global name 'root_scalar':\u001b[0m \u001b[1m\u001b[1mCannot determine Numba type of <class 'function'>\u001b[0m\n\u001b[1m\nFile \"../../tmp/ipykernel_812/633488042.py\", line 3:\u001b[0m\n\u001b[1m<source missing, REPL/exec in use?>\u001b[0m\n\u001b[0m",
     "output_type": "error",
     "traceback": [
      "\u001b[0;31m---------------------------------------------------------------------------\u001b[0m",
      "\u001b[0;31mTypingError\u001b[0m                               Traceback (most recent call last)",
      "Cell \u001b[0;32mIn[36], line 1\u001b[0m\n\u001b[0;32m----> 1\u001b[0m \u001b[43mcall_root_finding_sp\u001b[49m\u001b[43m(\u001b[49m\u001b[43mf_root\u001b[49m\u001b[43m,\u001b[49m\u001b[43m \u001b[49m\u001b[38;5;241;43m-\u001b[39;49m\u001b[38;5;241;43m4\u001b[39;49m\u001b[43m,\u001b[49m\u001b[43m \u001b[49m\u001b[43m(\u001b[49m\u001b[43mϕ0\u001b[49m\u001b[43m,\u001b[49m\u001b[43m \u001b[49m\u001b[43mϕ1\u001b[49m\u001b[43m,\u001b[49m\u001b[43m \u001b[49m\u001b[43mϕ2\u001b[49m\u001b[43m)\u001b[49m\u001b[43m)\u001b[49m\n",
      "File \u001b[0;32m~/anaconda3/envs/quantecon/lib/python3.10/site-packages/numba/core/dispatcher.py:468\u001b[0m, in \u001b[0;36m_DispatcherBase._compile_for_args\u001b[0;34m(self, *args, **kws)\u001b[0m\n\u001b[1;32m    464\u001b[0m         msg \u001b[38;5;241m=\u001b[39m (\u001b[38;5;124mf\u001b[39m\u001b[38;5;124m\"\u001b[39m\u001b[38;5;132;01m{\u001b[39;00m\u001b[38;5;28mstr\u001b[39m(e)\u001b[38;5;241m.\u001b[39mrstrip()\u001b[38;5;132;01m}\u001b[39;00m\u001b[38;5;124m \u001b[39m\u001b[38;5;130;01m\\n\u001b[39;00m\u001b[38;5;130;01m\\n\u001b[39;00m\u001b[38;5;124mThis error may have been caused \u001b[39m\u001b[38;5;124m\"\u001b[39m\n\u001b[1;32m    465\u001b[0m                \u001b[38;5;124mf\u001b[39m\u001b[38;5;124m\"\u001b[39m\u001b[38;5;124mby the following argument(s):\u001b[39m\u001b[38;5;130;01m\\n\u001b[39;00m\u001b[38;5;132;01m{\u001b[39;00margs_str\u001b[38;5;132;01m}\u001b[39;00m\u001b[38;5;130;01m\\n\u001b[39;00m\u001b[38;5;124m\"\u001b[39m)\n\u001b[1;32m    466\u001b[0m         e\u001b[38;5;241m.\u001b[39mpatch_message(msg)\n\u001b[0;32m--> 468\u001b[0m     \u001b[43merror_rewrite\u001b[49m\u001b[43m(\u001b[49m\u001b[43me\u001b[49m\u001b[43m,\u001b[49m\u001b[43m \u001b[49m\u001b[38;5;124;43m'\u001b[39;49m\u001b[38;5;124;43mtyping\u001b[39;49m\u001b[38;5;124;43m'\u001b[39;49m\u001b[43m)\u001b[49m\n\u001b[1;32m    469\u001b[0m \u001b[38;5;28;01mexcept\u001b[39;00m errors\u001b[38;5;241m.\u001b[39mUnsupportedError \u001b[38;5;28;01mas\u001b[39;00m e:\n\u001b[1;32m    470\u001b[0m     \u001b[38;5;66;03m# Something unsupported is present in the user code, add help info\u001b[39;00m\n\u001b[1;32m    471\u001b[0m     error_rewrite(e, \u001b[38;5;124m'\u001b[39m\u001b[38;5;124munsupported_error\u001b[39m\u001b[38;5;124m'\u001b[39m)\n",
      "File \u001b[0;32m~/anaconda3/envs/quantecon/lib/python3.10/site-packages/numba/core/dispatcher.py:409\u001b[0m, in \u001b[0;36m_DispatcherBase._compile_for_args.<locals>.error_rewrite\u001b[0;34m(e, issue_type)\u001b[0m\n\u001b[1;32m    407\u001b[0m     \u001b[38;5;28;01mraise\u001b[39;00m e\n\u001b[1;32m    408\u001b[0m \u001b[38;5;28;01melse\u001b[39;00m:\n\u001b[0;32m--> 409\u001b[0m     \u001b[38;5;28;01mraise\u001b[39;00m e\u001b[38;5;241m.\u001b[39mwith_traceback(\u001b[38;5;28;01mNone\u001b[39;00m)\n",
      "\u001b[0;31mTypingError\u001b[0m: Failed in nopython mode pipeline (step: nopython frontend)\n\u001b[1mUntyped global name 'root_scalar':\u001b[0m \u001b[1m\u001b[1mCannot determine Numba type of <class 'function'>\u001b[0m\n\u001b[1m\nFile \"../../tmp/ipykernel_812/633488042.py\", line 3:\u001b[0m\n\u001b[1m<source missing, REPL/exec in use?>\u001b[0m\n\u001b[0m"
     ]
    }
   ],
   "source": [
    "call_root_finding_sp(f_root, -4, (ϕ0, ϕ1, ϕ2))"
   ]
  },
  {
   "cell_type": "markdown",
   "id": "154425ce",
   "metadata": {},
   "source": [
    "### multivariate function"
   ]
  },
  {
   "cell_type": "code",
   "execution_count": 37,
   "id": "046261b3",
   "metadata": {},
   "outputs": [],
   "source": [
    "@njit\n",
    "def func(x, a, b, c, d):\n",
    "\n",
    "    #     return (x[0] - a) ** b + (x[1] - c) ** d\n",
    "    x1, x2 = x\n",
    "    return (x1 - a) ** b + (x2 - c) ** d"
   ]
  },
  {
   "cell_type": "code",
   "execution_count": 38,
   "id": "2e687243",
   "metadata": {},
   "outputs": [],
   "source": [
    "a, b, c, d = 0.1, 2, -0.5, 2"
   ]
  },
  {
   "cell_type": "markdown",
   "id": "7094b389",
   "metadata": {},
   "source": [
    "Root will be $\\left[a, c\\right]=\\left[0.1, -0.5\\right]$"
   ]
  },
  {
   "cell_type": "code",
   "execution_count": 39,
   "id": "c97683d4",
   "metadata": {
    "scrolled": false
   },
   "outputs": [
    {
     "ename": "RuntimeError",
     "evalue": "all failed to converge after 50 iterations",
     "output_type": "error",
     "traceback": [
      "\u001b[0;31m---------------------------------------------------------------------------\u001b[0m",
      "\u001b[0;31mRuntimeError\u001b[0m                              Traceback (most recent call last)",
      "Cell \u001b[0;32mIn[39], line 1\u001b[0m\n\u001b[0;32m----> 1\u001b[0m \u001b[43mroot_scalar\u001b[49m\u001b[43m(\u001b[49m\u001b[43mfunc\u001b[49m\u001b[43m,\u001b[49m\u001b[43m \u001b[49m\u001b[43mx0\u001b[49m\u001b[38;5;241;43m=\u001b[39;49m\u001b[43mnp\u001b[49m\u001b[38;5;241;43m.\u001b[39;49m\u001b[43marray\u001b[49m\u001b[43m(\u001b[49m\u001b[43m[\u001b[49m\u001b[38;5;241;43m0.\u001b[39;49m\u001b[43m,\u001b[49m\u001b[43m \u001b[49m\u001b[38;5;241;43m-\u001b[39;49m\u001b[38;5;241;43m0.\u001b[39;49m\u001b[43m]\u001b[49m\u001b[43m)\u001b[49m\u001b[43m,\u001b[49m\u001b[43m \u001b[49m\u001b[43margs\u001b[49m\u001b[38;5;241;43m=\u001b[39;49m\u001b[43m(\u001b[49m\u001b[43ma\u001b[49m\u001b[43m,\u001b[49m\u001b[43m \u001b[49m\u001b[43mb\u001b[49m\u001b[43m,\u001b[49m\u001b[43m \u001b[49m\u001b[43mc\u001b[49m\u001b[43m,\u001b[49m\u001b[43m \u001b[49m\u001b[43md\u001b[49m\u001b[43m)\u001b[49m\u001b[43m,\u001b[49m\u001b[43m \u001b[49m\u001b[43mmethod\u001b[49m\u001b[38;5;241;43m=\u001b[39;49m\u001b[38;5;124;43m'\u001b[39;49m\u001b[38;5;124;43msecant\u001b[39;49m\u001b[38;5;124;43m'\u001b[39;49m\u001b[43m)\u001b[49m\n",
      "File \u001b[0;32m~/anaconda3/envs/quantecon/lib/python3.10/site-packages/scipy/optimize/_root_scalar.py:298\u001b[0m, in \u001b[0;36mroot_scalar\u001b[0;34m(f, args, method, bracket, fprime, fprime2, x0, x1, xtol, rtol, maxiter, options)\u001b[0m\n\u001b[1;32m    296\u001b[0m     \u001b[38;5;28;01mif\u001b[39;00m \u001b[38;5;124m'\u001b[39m\u001b[38;5;124mxtol\u001b[39m\u001b[38;5;124m'\u001b[39m \u001b[38;5;129;01min\u001b[39;00m kwargs:\n\u001b[1;32m    297\u001b[0m         kwargs[\u001b[38;5;124m'\u001b[39m\u001b[38;5;124mtol\u001b[39m\u001b[38;5;124m'\u001b[39m] \u001b[38;5;241m=\u001b[39m kwargs\u001b[38;5;241m.\u001b[39mpop(\u001b[38;5;124m'\u001b[39m\u001b[38;5;124mxtol\u001b[39m\u001b[38;5;124m'\u001b[39m)\n\u001b[0;32m--> 298\u001b[0m     r, sol \u001b[38;5;241m=\u001b[39m \u001b[43mmethodc\u001b[49m\u001b[43m(\u001b[49m\u001b[43mf\u001b[49m\u001b[43m,\u001b[49m\u001b[43m \u001b[49m\u001b[43mx0\u001b[49m\u001b[43m,\u001b[49m\u001b[43m \u001b[49m\u001b[43margs\u001b[49m\u001b[38;5;241;43m=\u001b[39;49m\u001b[43margs\u001b[49m\u001b[43m,\u001b[49m\u001b[43m \u001b[49m\u001b[43mfprime\u001b[49m\u001b[38;5;241;43m=\u001b[39;49m\u001b[38;5;28;43;01mNone\u001b[39;49;00m\u001b[43m,\u001b[49m\u001b[43m \u001b[49m\u001b[43mfprime2\u001b[49m\u001b[38;5;241;43m=\u001b[39;49m\u001b[38;5;28;43;01mNone\u001b[39;49;00m\u001b[43m,\u001b[49m\n\u001b[1;32m    299\u001b[0m \u001b[43m                     \u001b[49m\u001b[43mx1\u001b[49m\u001b[38;5;241;43m=\u001b[39;49m\u001b[43mx1\u001b[49m\u001b[43m,\u001b[49m\u001b[43m \u001b[49m\u001b[38;5;241;43m*\u001b[39;49m\u001b[38;5;241;43m*\u001b[39;49m\u001b[43mkwargs\u001b[49m\u001b[43m)\u001b[49m\n\u001b[1;32m    300\u001b[0m \u001b[38;5;28;01melif\u001b[39;00m meth \u001b[38;5;129;01min\u001b[39;00m [\u001b[38;5;124m'\u001b[39m\u001b[38;5;124mnewton\u001b[39m\u001b[38;5;124m'\u001b[39m]:\n\u001b[1;32m    301\u001b[0m     \u001b[38;5;28;01mif\u001b[39;00m x0 \u001b[38;5;129;01mis\u001b[39;00m \u001b[38;5;28;01mNone\u001b[39;00m:\n",
      "File \u001b[0;32m~/anaconda3/envs/quantecon/lib/python3.10/site-packages/scipy/optimize/_zeros_py.py:296\u001b[0m, in \u001b[0;36mnewton\u001b[0;34m(func, x0, fprime, args, tol, maxiter, fprime2, x1, rtol, full_output, disp)\u001b[0m\n\u001b[1;32m    294\u001b[0m     \u001b[38;5;28;01mraise\u001b[39;00m \u001b[38;5;167;01mValueError\u001b[39;00m(\u001b[38;5;124m\"\u001b[39m\u001b[38;5;124mmaxiter must be greater than 0\u001b[39m\u001b[38;5;124m\"\u001b[39m)\n\u001b[1;32m    295\u001b[0m \u001b[38;5;28;01mif\u001b[39;00m np\u001b[38;5;241m.\u001b[39msize(x0) \u001b[38;5;241m>\u001b[39m \u001b[38;5;241m1\u001b[39m:\n\u001b[0;32m--> 296\u001b[0m     \u001b[38;5;28;01mreturn\u001b[39;00m \u001b[43m_array_newton\u001b[49m\u001b[43m(\u001b[49m\u001b[43mfunc\u001b[49m\u001b[43m,\u001b[49m\u001b[43m \u001b[49m\u001b[43mx0\u001b[49m\u001b[43m,\u001b[49m\u001b[43m \u001b[49m\u001b[43mfprime\u001b[49m\u001b[43m,\u001b[49m\u001b[43m \u001b[49m\u001b[43margs\u001b[49m\u001b[43m,\u001b[49m\u001b[43m \u001b[49m\u001b[43mtol\u001b[49m\u001b[43m,\u001b[49m\u001b[43m \u001b[49m\u001b[43mmaxiter\u001b[49m\u001b[43m,\u001b[49m\u001b[43m \u001b[49m\u001b[43mfprime2\u001b[49m\u001b[43m,\u001b[49m\n\u001b[1;32m    297\u001b[0m \u001b[43m                         \u001b[49m\u001b[43mfull_output\u001b[49m\u001b[43m)\u001b[49m\n\u001b[1;32m    299\u001b[0m \u001b[38;5;66;03m# Convert to float (don't use float(x0); this works also for complex x0)\u001b[39;00m\n\u001b[1;32m    300\u001b[0m \u001b[38;5;66;03m# Use np.asarray because we want x0 to be a numpy object, not a Python\u001b[39;00m\n\u001b[1;32m    301\u001b[0m \u001b[38;5;66;03m# object. e.g. np.complex(1+1j) > 0 is possible, but (1 + 1j) > 0 raises\u001b[39;00m\n\u001b[1;32m    302\u001b[0m \u001b[38;5;66;03m# a TypeError\u001b[39;00m\n\u001b[1;32m    303\u001b[0m x0 \u001b[38;5;241m=\u001b[39m np\u001b[38;5;241m.\u001b[39masarray(x0)[()] \u001b[38;5;241m*\u001b[39m \u001b[38;5;241m1.0\u001b[39m\n",
      "File \u001b[0;32m~/anaconda3/envs/quantecon/lib/python3.10/site-packages/scipy/optimize/_zeros_py.py:488\u001b[0m, in \u001b[0;36m_array_newton\u001b[0;34m(func, x0, fprime, args, tol, maxiter, fprime2, full_output)\u001b[0m\n\u001b[1;32m    486\u001b[0m     msg \u001b[38;5;241m=\u001b[39m \u001b[38;5;124mf\u001b[39m\u001b[38;5;124m'\u001b[39m\u001b[38;5;132;01m{\u001b[39;00mall_or_some\u001b[38;5;132;01m:\u001b[39;00m\u001b[38;5;124ms\u001b[39m\u001b[38;5;132;01m}\u001b[39;00m\u001b[38;5;124m failed to converge after \u001b[39m\u001b[38;5;132;01m{\u001b[39;00mmaxiter\u001b[38;5;132;01m:\u001b[39;00m\u001b[38;5;124md\u001b[39m\u001b[38;5;132;01m}\u001b[39;00m\u001b[38;5;124m iterations\u001b[39m\u001b[38;5;124m'\u001b[39m\n\u001b[1;32m    487\u001b[0m     \u001b[38;5;28;01mif\u001b[39;00m failures\u001b[38;5;241m.\u001b[39mall():\n\u001b[0;32m--> 488\u001b[0m         \u001b[38;5;28;01mraise\u001b[39;00m \u001b[38;5;167;01mRuntimeError\u001b[39;00m(msg)\n\u001b[1;32m    489\u001b[0m     warnings\u001b[38;5;241m.\u001b[39mwarn(msg, \u001b[38;5;167;01mRuntimeWarning\u001b[39;00m, stacklevel\u001b[38;5;241m=\u001b[39m\u001b[38;5;241m3\u001b[39m)\n\u001b[1;32m    491\u001b[0m \u001b[38;5;28;01mif\u001b[39;00m full_output:\n",
      "\u001b[0;31mRuntimeError\u001b[0m: all failed to converge after 50 iterations"
     ]
    }
   ],
   "source": [
    "root_scalar(func, x0=np.array([0., -0.]), args=(a, b, c, d), method='secant')"
   ]
  },
  {
   "cell_type": "code",
   "execution_count": 40,
   "id": "c64f689e",
   "metadata": {},
   "outputs": [
    {
     "ename": "RuntimeError",
     "evalue": "all failed to converge after 50 iterations",
     "output_type": "error",
     "traceback": [
      "\u001b[0;31m---------------------------------------------------------------------------\u001b[0m",
      "\u001b[0;31mRuntimeError\u001b[0m                              Traceback (most recent call last)",
      "Cell \u001b[0;32mIn[40], line 1\u001b[0m\n\u001b[0;32m----> 1\u001b[0m \u001b[43mroot_scalar\u001b[49m\u001b[43m(\u001b[49m\u001b[43mfunc\u001b[49m\u001b[43m,\u001b[49m\u001b[43m \u001b[49m\u001b[43mx0\u001b[49m\u001b[38;5;241;43m=\u001b[39;49m\u001b[43mnp\u001b[49m\u001b[38;5;241;43m.\u001b[39;49m\u001b[43marray\u001b[49m\u001b[43m(\u001b[49m\u001b[43m[\u001b[49m\u001b[38;5;241;43m0.099\u001b[39;49m\u001b[43m,\u001b[49m\u001b[43m \u001b[49m\u001b[38;5;241;43m-\u001b[39;49m\u001b[38;5;241;43m0.499\u001b[39;49m\u001b[43m]\u001b[49m\u001b[43m)\u001b[49m\u001b[43m,\u001b[49m\u001b[43m \u001b[49m\u001b[43margs\u001b[49m\u001b[38;5;241;43m=\u001b[39;49m\u001b[43m(\u001b[49m\u001b[43ma\u001b[49m\u001b[43m,\u001b[49m\u001b[43m \u001b[49m\u001b[43mb\u001b[49m\u001b[43m,\u001b[49m\u001b[43m \u001b[49m\u001b[43mc\u001b[49m\u001b[43m,\u001b[49m\u001b[43m \u001b[49m\u001b[43md\u001b[49m\u001b[43m)\u001b[49m\u001b[43m,\u001b[49m\u001b[43m \u001b[49m\u001b[43mmethod\u001b[49m\u001b[38;5;241;43m=\u001b[39;49m\u001b[38;5;124;43m'\u001b[39;49m\u001b[38;5;124;43msecant\u001b[39;49m\u001b[38;5;124;43m'\u001b[39;49m\u001b[43m)\u001b[49m\n",
      "File \u001b[0;32m~/anaconda3/envs/quantecon/lib/python3.10/site-packages/scipy/optimize/_root_scalar.py:298\u001b[0m, in \u001b[0;36mroot_scalar\u001b[0;34m(f, args, method, bracket, fprime, fprime2, x0, x1, xtol, rtol, maxiter, options)\u001b[0m\n\u001b[1;32m    296\u001b[0m     \u001b[38;5;28;01mif\u001b[39;00m \u001b[38;5;124m'\u001b[39m\u001b[38;5;124mxtol\u001b[39m\u001b[38;5;124m'\u001b[39m \u001b[38;5;129;01min\u001b[39;00m kwargs:\n\u001b[1;32m    297\u001b[0m         kwargs[\u001b[38;5;124m'\u001b[39m\u001b[38;5;124mtol\u001b[39m\u001b[38;5;124m'\u001b[39m] \u001b[38;5;241m=\u001b[39m kwargs\u001b[38;5;241m.\u001b[39mpop(\u001b[38;5;124m'\u001b[39m\u001b[38;5;124mxtol\u001b[39m\u001b[38;5;124m'\u001b[39m)\n\u001b[0;32m--> 298\u001b[0m     r, sol \u001b[38;5;241m=\u001b[39m \u001b[43mmethodc\u001b[49m\u001b[43m(\u001b[49m\u001b[43mf\u001b[49m\u001b[43m,\u001b[49m\u001b[43m \u001b[49m\u001b[43mx0\u001b[49m\u001b[43m,\u001b[49m\u001b[43m \u001b[49m\u001b[43margs\u001b[49m\u001b[38;5;241;43m=\u001b[39;49m\u001b[43margs\u001b[49m\u001b[43m,\u001b[49m\u001b[43m \u001b[49m\u001b[43mfprime\u001b[49m\u001b[38;5;241;43m=\u001b[39;49m\u001b[38;5;28;43;01mNone\u001b[39;49;00m\u001b[43m,\u001b[49m\u001b[43m \u001b[49m\u001b[43mfprime2\u001b[49m\u001b[38;5;241;43m=\u001b[39;49m\u001b[38;5;28;43;01mNone\u001b[39;49;00m\u001b[43m,\u001b[49m\n\u001b[1;32m    299\u001b[0m \u001b[43m                     \u001b[49m\u001b[43mx1\u001b[49m\u001b[38;5;241;43m=\u001b[39;49m\u001b[43mx1\u001b[49m\u001b[43m,\u001b[49m\u001b[43m \u001b[49m\u001b[38;5;241;43m*\u001b[39;49m\u001b[38;5;241;43m*\u001b[39;49m\u001b[43mkwargs\u001b[49m\u001b[43m)\u001b[49m\n\u001b[1;32m    300\u001b[0m \u001b[38;5;28;01melif\u001b[39;00m meth \u001b[38;5;129;01min\u001b[39;00m [\u001b[38;5;124m'\u001b[39m\u001b[38;5;124mnewton\u001b[39m\u001b[38;5;124m'\u001b[39m]:\n\u001b[1;32m    301\u001b[0m     \u001b[38;5;28;01mif\u001b[39;00m x0 \u001b[38;5;129;01mis\u001b[39;00m \u001b[38;5;28;01mNone\u001b[39;00m:\n",
      "File \u001b[0;32m~/anaconda3/envs/quantecon/lib/python3.10/site-packages/scipy/optimize/_zeros_py.py:296\u001b[0m, in \u001b[0;36mnewton\u001b[0;34m(func, x0, fprime, args, tol, maxiter, fprime2, x1, rtol, full_output, disp)\u001b[0m\n\u001b[1;32m    294\u001b[0m     \u001b[38;5;28;01mraise\u001b[39;00m \u001b[38;5;167;01mValueError\u001b[39;00m(\u001b[38;5;124m\"\u001b[39m\u001b[38;5;124mmaxiter must be greater than 0\u001b[39m\u001b[38;5;124m\"\u001b[39m)\n\u001b[1;32m    295\u001b[0m \u001b[38;5;28;01mif\u001b[39;00m np\u001b[38;5;241m.\u001b[39msize(x0) \u001b[38;5;241m>\u001b[39m \u001b[38;5;241m1\u001b[39m:\n\u001b[0;32m--> 296\u001b[0m     \u001b[38;5;28;01mreturn\u001b[39;00m \u001b[43m_array_newton\u001b[49m\u001b[43m(\u001b[49m\u001b[43mfunc\u001b[49m\u001b[43m,\u001b[49m\u001b[43m \u001b[49m\u001b[43mx0\u001b[49m\u001b[43m,\u001b[49m\u001b[43m \u001b[49m\u001b[43mfprime\u001b[49m\u001b[43m,\u001b[49m\u001b[43m \u001b[49m\u001b[43margs\u001b[49m\u001b[43m,\u001b[49m\u001b[43m \u001b[49m\u001b[43mtol\u001b[49m\u001b[43m,\u001b[49m\u001b[43m \u001b[49m\u001b[43mmaxiter\u001b[49m\u001b[43m,\u001b[49m\u001b[43m \u001b[49m\u001b[43mfprime2\u001b[49m\u001b[43m,\u001b[49m\n\u001b[1;32m    297\u001b[0m \u001b[43m                         \u001b[49m\u001b[43mfull_output\u001b[49m\u001b[43m)\u001b[49m\n\u001b[1;32m    299\u001b[0m \u001b[38;5;66;03m# Convert to float (don't use float(x0); this works also for complex x0)\u001b[39;00m\n\u001b[1;32m    300\u001b[0m \u001b[38;5;66;03m# Use np.asarray because we want x0 to be a numpy object, not a Python\u001b[39;00m\n\u001b[1;32m    301\u001b[0m \u001b[38;5;66;03m# object. e.g. np.complex(1+1j) > 0 is possible, but (1 + 1j) > 0 raises\u001b[39;00m\n\u001b[1;32m    302\u001b[0m \u001b[38;5;66;03m# a TypeError\u001b[39;00m\n\u001b[1;32m    303\u001b[0m x0 \u001b[38;5;241m=\u001b[39m np\u001b[38;5;241m.\u001b[39masarray(x0)[()] \u001b[38;5;241m*\u001b[39m \u001b[38;5;241m1.0\u001b[39m\n",
      "File \u001b[0;32m~/anaconda3/envs/quantecon/lib/python3.10/site-packages/scipy/optimize/_zeros_py.py:488\u001b[0m, in \u001b[0;36m_array_newton\u001b[0;34m(func, x0, fprime, args, tol, maxiter, fprime2, full_output)\u001b[0m\n\u001b[1;32m    486\u001b[0m     msg \u001b[38;5;241m=\u001b[39m \u001b[38;5;124mf\u001b[39m\u001b[38;5;124m'\u001b[39m\u001b[38;5;132;01m{\u001b[39;00mall_or_some\u001b[38;5;132;01m:\u001b[39;00m\u001b[38;5;124ms\u001b[39m\u001b[38;5;132;01m}\u001b[39;00m\u001b[38;5;124m failed to converge after \u001b[39m\u001b[38;5;132;01m{\u001b[39;00mmaxiter\u001b[38;5;132;01m:\u001b[39;00m\u001b[38;5;124md\u001b[39m\u001b[38;5;132;01m}\u001b[39;00m\u001b[38;5;124m iterations\u001b[39m\u001b[38;5;124m'\u001b[39m\n\u001b[1;32m    487\u001b[0m     \u001b[38;5;28;01mif\u001b[39;00m failures\u001b[38;5;241m.\u001b[39mall():\n\u001b[0;32m--> 488\u001b[0m         \u001b[38;5;28;01mraise\u001b[39;00m \u001b[38;5;167;01mRuntimeError\u001b[39;00m(msg)\n\u001b[1;32m    489\u001b[0m     warnings\u001b[38;5;241m.\u001b[39mwarn(msg, \u001b[38;5;167;01mRuntimeWarning\u001b[39;00m, stacklevel\u001b[38;5;241m=\u001b[39m\u001b[38;5;241m3\u001b[39m)\n\u001b[1;32m    491\u001b[0m \u001b[38;5;28;01mif\u001b[39;00m full_output:\n",
      "\u001b[0;31mRuntimeError\u001b[0m: all failed to converge after 50 iterations"
     ]
    }
   ],
   "source": [
    "root_scalar(func, x0=np.array([0.099, -0.499]), args=(a, b, c, d), method='secant')"
   ]
  },
  {
   "cell_type": "code",
   "execution_count": 41,
   "id": "abc47445",
   "metadata": {},
   "outputs": [
    {
     "data": {
      "text/plain": [
       "2.0000000000000037e-06"
      ]
     },
     "execution_count": 41,
     "metadata": {},
     "output_type": "execute_result"
    }
   ],
   "source": [
    "func(np.array([0.099, -0.499]), a, b, c, d)"
   ]
  },
  {
   "cell_type": "code",
   "execution_count": 42,
   "id": "93b7ff0e",
   "metadata": {
    "scrolled": true
   },
   "outputs": [
    {
     "data": {
      "text/plain": [
       "  message: Optimization terminated successfully.\n",
       "  success: True\n",
       "   status: 0\n",
       "      fun: 1.3540513933167419e-08\n",
       "        x: [ 1.021e-01 -5.106e-01]\n",
       "      nit: 5\n",
       "      jac: [ 9.847e-07 -4.923e-06]\n",
       " hess_inv: [[ 1.280e+01 -5.899e+01]\n",
       "            [-5.899e+01  2.959e+02]]\n",
       "     nfev: 24\n",
       "     njev: 8"
      ]
     },
     "execution_count": 42,
     "metadata": {},
     "output_type": "execute_result"
    }
   ],
   "source": [
    "func_sq = njit(lambda x, a, b, c, d: func(x, a, b, c, d) ** 2)\n",
    "res = minimize(func_sq, x0=np.array([0., 0.]), args=(a, b, c, d), method='BFGS')\n",
    "\n",
    "res"
   ]
  },
  {
   "cell_type": "code",
   "execution_count": 43,
   "id": "debd5ade",
   "metadata": {},
   "outputs": [
    {
     "data": {
      "text/plain": [
       "array([ 0.10211553, -0.51057772])"
      ]
     },
     "execution_count": 43,
     "metadata": {},
     "output_type": "execute_result"
    }
   ],
   "source": [
    "res.x"
   ]
  },
  {
   "cell_type": "markdown",
   "id": "272f092d",
   "metadata": {},
   "source": [
    "### Vector-valued function"
   ]
  },
  {
   "cell_type": "code",
   "execution_count": 44,
   "id": "ce51f9bd",
   "metadata": {},
   "outputs": [],
   "source": [
    "@njit\n",
    "def func_vec(x):\n",
    "    return [x[0]  + 0.5 * (x[0] - x[1])**3 - 1.0,\n",
    "            0.5 * (x[1] - x[0])**3 + x[1]]"
   ]
  },
  {
   "cell_type": "code",
   "execution_count": 45,
   "id": "a03fbfcd",
   "metadata": {},
   "outputs": [
    {
     "data": {
      "text/plain": [
       " message: A solution was found at the specified tolerance.\n",
       " success: True\n",
       "  status: 1\n",
       "     fun: [-1.200e-07  4.892e-07]\n",
       "       x: [ 8.412e-01  1.588e-01]\n",
       "     nit: 14\n",
       "  method: broyden1"
      ]
     },
     "execution_count": 45,
     "metadata": {},
     "output_type": "execute_result"
    }
   ],
   "source": [
    "res = root(func_vec, x0=np.array([0, 0]), method='broyden1')\n",
    "\n",
    "res"
   ]
  },
  {
   "cell_type": "markdown",
   "id": "0b63c645",
   "metadata": {},
   "source": [
    "## Optimization"
   ]
  },
  {
   "cell_type": "code",
   "execution_count": 46,
   "id": "2c447f44",
   "metadata": {},
   "outputs": [
    {
     "data": {
      "text/plain": [
       "       message: Optimization terminated successfully.\n",
       "       success: True\n",
       "        status: 0\n",
       "           fun: 2.7907191143434604e-18\n",
       "             x: [ 9.996e-02 -5.000e-01]\n",
       "           nit: 58\n",
       "          nfev: 116\n",
       " final_simplex: (array([[ 9.996e-02, -5.000e-01],\n",
       "                       [ 9.997e-02, -5.000e-01],\n",
       "                       [ 1.000e-01, -4.999e-01]]), array([ 2.791e-18,  5.351e-18,  3.686e-17]))"
      ]
     },
     "execution_count": 46,
     "metadata": {},
     "output_type": "execute_result"
    }
   ],
   "source": [
    "minimize(func_sq, x0=np.array([0., 0.]), args=(a, b, c, d), method='nelder-mead')"
   ]
  },
  {
   "cell_type": "markdown",
   "id": "325c4aba",
   "metadata": {},
   "source": [
    "### Constrainted optimization"
   ]
  },
  {
   "cell_type": "markdown",
   "id": "1cc7d74f",
   "metadata": {},
   "source": [
    "Bounds:\n",
    "\n",
    "$$\n",
    "lb\\leq x\\leq ub\n",
    "$$"
   ]
  },
  {
   "cell_type": "code",
   "execution_count": 47,
   "id": "e6510a56",
   "metadata": {},
   "outputs": [],
   "source": [
    "bounds = np.array([[-5, 5],         # for x1\n",
    "                   [-0.3, np.inf]]) # for x2"
   ]
  },
  {
   "cell_type": "code",
   "execution_count": 48,
   "id": "96997aff",
   "metadata": {},
   "outputs": [
    {
     "data": {
      "text/plain": [
       "       message: Optimization terminated successfully.\n",
       "       success: True\n",
       "        status: 0\n",
       "           fun: 0.0016000000573483334\n",
       "             x: [ 1.000e-01 -3.000e-01]\n",
       "           nit: 44\n",
       "          nfev: 82\n",
       " final_simplex: (array([[ 1.000e-01, -3.000e-01],\n",
       "                       [ 1.000e-01, -3.000e-01],\n",
       "                       [ 9.994e-02, -3.000e-01]]), array([ 1.600e-03,  1.600e-03,  1.600e-03]))"
      ]
     },
     "execution_count": 48,
     "metadata": {},
     "output_type": "execute_result"
    }
   ],
   "source": [
    "res = minimize(func_sq, x0=np.array([0., 0.]),\n",
    "               args=(a, b, c, d), bounds=bounds,\n",
    "               method='nelder-mead')\n",
    "\n",
    "res"
   ]
  },
  {
   "cell_type": "markdown",
   "id": "25d92499",
   "metadata": {},
   "source": [
    "Linear contraints:\n",
    "\n",
    "$$\n",
    "lb\\leq A\\cdot x\\leq ub\n",
    "$$\n",
    "\n",
    "Nonlinear constraints:\n",
    "\n",
    "$$\n",
    "lb\\leq f\\left(x\\right)\\leq ub\n",
    "$$"
   ]
  },
  {
   "cell_type": "code",
   "execution_count": 49,
   "id": "2dbcf1df",
   "metadata": {},
   "outputs": [],
   "source": [
    "A_lc = np.array([[0., 0.2]])\n",
    "\n",
    "@njit\n",
    "def f_nc(x):\n",
    "    return np.sum(x ** 2)"
   ]
  },
  {
   "cell_type": "code",
   "execution_count": 50,
   "id": "ad1ada20",
   "metadata": {},
   "outputs": [
    {
     "data": {
      "text/plain": [
       "array([-0.06])"
      ]
     },
     "execution_count": 50,
     "metadata": {},
     "output_type": "execute_result"
    }
   ],
   "source": [
    "A_lc @ res.x"
   ]
  },
  {
   "cell_type": "code",
   "execution_count": 51,
   "id": "e5a91f19",
   "metadata": {},
   "outputs": [
    {
     "data": {
      "text/plain": [
       "0.10000535554319574"
      ]
     },
     "execution_count": 51,
     "metadata": {},
     "output_type": "execute_result"
    }
   ],
   "source": [
    "f_nc(res.x)"
   ]
  },
  {
   "cell_type": "code",
   "execution_count": 52,
   "id": "a23fdfa5",
   "metadata": {},
   "outputs": [],
   "source": [
    "lc = LinearConstraint(A_lc, lb=np.array([0.2]), ub=np.array([5.]))"
   ]
  },
  {
   "cell_type": "code",
   "execution_count": 53,
   "id": "7302dc9f",
   "metadata": {},
   "outputs": [
    {
     "data": {
      "text/plain": [
       " message: Optimization terminated successfully\n",
       " success: True\n",
       "  status: 0\n",
       "     fun: 5.062500001305947\n",
       "       x: [ 9.998e-02  1.000e+00]\n",
       "     nit: 9\n",
       "     jac: [-1.533e-04  1.350e+01]\n",
       "    nfev: 32\n",
       "    njev: 9"
      ]
     },
     "execution_count": 53,
     "metadata": {},
     "output_type": "execute_result"
    }
   ],
   "source": [
    "res = minimize(func_sq, x0=np.array([0., 0.]), args=(a, b, c, d),\n",
    "               bounds=bounds, constraints=(lc), method='SLSQP')\n",
    "\n",
    "res"
   ]
  },
  {
   "cell_type": "code",
   "execution_count": 54,
   "id": "261fc012",
   "metadata": {},
   "outputs": [
    {
     "data": {
      "text/plain": [
       "array([0.2])"
      ]
     },
     "execution_count": 54,
     "metadata": {},
     "output_type": "execute_result"
    }
   ],
   "source": [
    "A_lc @ res.x"
   ]
  },
  {
   "cell_type": "code",
   "execution_count": 55,
   "id": "bba520aa",
   "metadata": {},
   "outputs": [
    {
     "data": {
      "text/plain": [
       "1.0099965931816266"
      ]
     },
     "execution_count": 55,
     "metadata": {},
     "output_type": "execute_result"
    }
   ],
   "source": [
    "f_nc(res.x)"
   ]
  },
  {
   "cell_type": "code",
   "execution_count": 56,
   "id": "70ae7dec",
   "metadata": {},
   "outputs": [],
   "source": [
    "nc = NonlinearConstraint(f_nc, lb=np.array([2.]), ub=np.array([10.]))"
   ]
  },
  {
   "cell_type": "code",
   "execution_count": 57,
   "id": "ae87503c",
   "metadata": {},
   "outputs": [
    {
     "data": {
      "text/plain": [
       " message: Optimization terminated successfully\n",
       " success: True\n",
       "  status: 0\n",
       "     fun: 9.36360000150657\n",
       "       x: [ 1.000e+00  1.000e+00]\n",
       "     nit: 9\n",
       "     jac: [ 1.102e+01  1.836e+01]\n",
       "    nfev: 27\n",
       "    njev: 9"
      ]
     },
     "execution_count": 57,
     "metadata": {},
     "output_type": "execute_result"
    }
   ],
   "source": [
    "res = minimize(func_sq, x0=np.array([0., 0.]), args=(a, b, c, d),\n",
    "               bounds=bounds, constraints=(lc, nc), method='SLSQP')\n",
    "\n",
    "res"
   ]
  },
  {
   "cell_type": "code",
   "execution_count": 58,
   "id": "6c446cf0",
   "metadata": {},
   "outputs": [
    {
     "data": {
      "text/plain": [
       "2.0000000002736176"
      ]
     },
     "execution_count": 58,
     "metadata": {},
     "output_type": "execute_result"
    }
   ],
   "source": [
    "f_nc(res.x)"
   ]
  },
  {
   "cell_type": "code",
   "execution_count": 59,
   "id": "c24ab3e4",
   "metadata": {},
   "outputs": [
    {
     "data": {
      "text/plain": [
       "array([0.2])"
      ]
     },
     "execution_count": 59,
     "metadata": {},
     "output_type": "execute_result"
    }
   ],
   "source": [
    "A_lc @ res.x"
   ]
  },
  {
   "cell_type": "markdown",
   "id": "c09873c2",
   "metadata": {},
   "source": [
    "### Global optimization\n",
    "\n",
    "`dual_annealing`: simulated annealing + local minimizer of your choice (optional)"
   ]
  },
  {
   "cell_type": "code",
   "execution_count": 60,
   "id": "64168da1",
   "metadata": {},
   "outputs": [
    {
     "ename": "ValueError",
     "evalue": "Some bounds values are inf values or nan values",
     "output_type": "error",
     "traceback": [
      "\u001b[0;31m---------------------------------------------------------------------------\u001b[0m",
      "\u001b[0;31mValueError\u001b[0m                                Traceback (most recent call last)",
      "Cell \u001b[0;32mIn[60], line 4\u001b[0m\n\u001b[1;32m      1\u001b[0m bounds \u001b[38;5;241m=\u001b[39m np\u001b[38;5;241m.\u001b[39marray([[\u001b[38;5;241m-\u001b[39m\u001b[38;5;241m5\u001b[39m, \u001b[38;5;241m5\u001b[39m],\n\u001b[1;32m      2\u001b[0m                    [\u001b[38;5;241m-\u001b[39m\u001b[38;5;241m0.3\u001b[39m, np\u001b[38;5;241m.\u001b[39minf]])\n\u001b[0;32m----> 4\u001b[0m \u001b[43mdual_annealing\u001b[49m\u001b[43m(\u001b[49m\u001b[43mfunc_sq\u001b[49m\u001b[43m,\u001b[49m\u001b[43m \u001b[49m\u001b[43mbounds\u001b[49m\u001b[43m,\u001b[49m\u001b[43m \u001b[49m\u001b[43margs\u001b[49m\u001b[38;5;241;43m=\u001b[39;49m\u001b[43m(\u001b[49m\u001b[43ma\u001b[49m\u001b[43m,\u001b[49m\u001b[43m \u001b[49m\u001b[43mb\u001b[49m\u001b[43m,\u001b[49m\u001b[43m \u001b[49m\u001b[43mc\u001b[49m\u001b[43m,\u001b[49m\u001b[43m \u001b[49m\u001b[43md\u001b[49m\u001b[43m)\u001b[49m\u001b[43m,\u001b[49m\n\u001b[1;32m      5\u001b[0m \u001b[43m               \u001b[49m\u001b[43mminimizer_kwargs\u001b[49m\u001b[38;5;241;43m=\u001b[39;49m\u001b[43m{\u001b[49m\u001b[38;5;124;43m'\u001b[39;49m\u001b[38;5;124;43mmethod\u001b[39;49m\u001b[38;5;124;43m'\u001b[39;49m\u001b[43m:\u001b[49m\u001b[43m \u001b[49m\u001b[38;5;124;43m'\u001b[39;49m\u001b[38;5;124;43mnelder-mead\u001b[39;49m\u001b[38;5;124;43m'\u001b[39;49m\u001b[43m}\u001b[49m\u001b[43m,\u001b[49m\n\u001b[1;32m      6\u001b[0m \u001b[43m               \u001b[49m\u001b[43mno_local_search\u001b[49m\u001b[38;5;241;43m=\u001b[39;49m\u001b[38;5;28;43;01mFalse\u001b[39;49;00m\u001b[43m)\u001b[49m\n",
      "File \u001b[0;32m~/anaconda3/envs/quantecon/lib/python3.10/site-packages/scipy/optimize/_dual_annealing.py:636\u001b[0m, in \u001b[0;36mdual_annealing\u001b[0;34m(func, bounds, args, maxiter, minimizer_kwargs, initial_temp, restart_temp_ratio, visit, accept, maxfun, seed, no_local_search, callback, x0)\u001b[0m\n\u001b[1;32m    633\u001b[0m \u001b[38;5;66;03m# Checking bounds are valid\u001b[39;00m\n\u001b[1;32m    634\u001b[0m \u001b[38;5;28;01mif\u001b[39;00m (np\u001b[38;5;241m.\u001b[39many(np\u001b[38;5;241m.\u001b[39misinf(lower)) \u001b[38;5;129;01mor\u001b[39;00m np\u001b[38;5;241m.\u001b[39many(np\u001b[38;5;241m.\u001b[39misinf(upper)) \u001b[38;5;129;01mor\u001b[39;00m np\u001b[38;5;241m.\u001b[39many(\n\u001b[1;32m    635\u001b[0m         np\u001b[38;5;241m.\u001b[39misnan(lower)) \u001b[38;5;129;01mor\u001b[39;00m np\u001b[38;5;241m.\u001b[39many(np\u001b[38;5;241m.\u001b[39misnan(upper))):\n\u001b[0;32m--> 636\u001b[0m     \u001b[38;5;28;01mraise\u001b[39;00m \u001b[38;5;167;01mValueError\u001b[39;00m(\u001b[38;5;124m'\u001b[39m\u001b[38;5;124mSome bounds values are inf values or nan values\u001b[39m\u001b[38;5;124m'\u001b[39m)\n\u001b[1;32m    637\u001b[0m \u001b[38;5;66;03m# Checking that bounds are consistent\u001b[39;00m\n\u001b[1;32m    638\u001b[0m \u001b[38;5;28;01mif\u001b[39;00m \u001b[38;5;129;01mnot\u001b[39;00m np\u001b[38;5;241m.\u001b[39mall(lower \u001b[38;5;241m<\u001b[39m upper):\n",
      "\u001b[0;31mValueError\u001b[0m: Some bounds values are inf values or nan values"
     ]
    }
   ],
   "source": [
    "bounds = np.array([[-5, 5],\n",
    "                   [-0.3, np.inf]])\n",
    "\n",
    "dual_annealing(func_sq, bounds, args=(a, b, c, d),\n",
    "               minimizer_kwargs={'method': 'nelder-mead'},\n",
    "               no_local_search=False)"
   ]
  },
  {
   "cell_type": "code",
   "execution_count": 61,
   "id": "888ac6b9",
   "metadata": {},
   "outputs": [
    {
     "data": {
      "text/plain": [
       " message: ['Maximum number of iteration reached']\n",
       " success: True\n",
       "  status: 0\n",
       "     fun: 2.5326563028959785e-19\n",
       "       x: [ 1.000e-01 -5.000e-01]\n",
       "     nit: 1000\n",
       "    nfev: 4087\n",
       "    njev: 0\n",
       "    nhev: 0"
      ]
     },
     "execution_count": 61,
     "metadata": {},
     "output_type": "execute_result"
    }
   ],
   "source": [
    "bounds = np.array([[-5, 5],\n",
    "                   [-10., 10.]])\n",
    "\n",
    "dual_annealing(func_sq, bounds, args=(a, b, c, d),\n",
    "               minimizer_kwargs={'method': 'nelder-mead'},\n",
    "               no_local_search=False)"
   ]
  },
  {
   "cell_type": "markdown",
   "id": "fa44f207",
   "metadata": {},
   "source": [
    "## Quadrature"
   ]
  },
  {
   "cell_type": "markdown",
   "id": "5c9176d8",
   "metadata": {},
   "source": [
    "To compute\n",
    "\n",
    "$$\n",
    "\\int_{-\\infty}^{\\infty} f\\left(x\\right) dx\n",
    "$$\n",
    "\n",
    "where $x\\sim N\\left(0, 1\\right)$"
   ]
  },
  {
   "cell_type": "markdown",
   "id": "0acebf37",
   "metadata": {},
   "source": [
    "It can be approximated by\n",
    "\n",
    "$$\n",
    "\\sum_{i=1}^{n}\\frac{\\omega_{i}}{\\sqrt{\\pi}}f\\left(\\mu+\\sqrt{2}\\sigma\\zeta_{i}\\right)\n",
    "$$\n",
    "\n",
    "using Guass-Hermite approximation"
   ]
  },
  {
   "cell_type": "code",
   "execution_count": 62,
   "id": "a8df499c",
   "metadata": {},
   "outputs": [],
   "source": [
    "μ = 0\n",
    "σ = 1"
   ]
  },
  {
   "cell_type": "code",
   "execution_count": 63,
   "id": "0fa2f1bd",
   "metadata": {},
   "outputs": [],
   "source": [
    "@njit\n",
    "def f_integrand(x, λ0, λ1, λ2):\n",
    "\n",
    "    return λ0 + λ1 * x + λ2 * x**2\n",
    "\n",
    "@njit\n",
    "def quad(f, args, μ, σ, nodes, weights):\n",
    "\n",
    "    integral = np.sum(weights / np.sqrt(np.pi) *\n",
    "                      f_integrand(μ + np.sqrt(2) * σ * nodes, *args))\n",
    "\n",
    "    return integral"
   ]
  },
  {
   "cell_type": "code",
   "execution_count": 64,
   "id": "3a8bdb8a",
   "metadata": {},
   "outputs": [],
   "source": [
    "λ0, λ1, λ2 = 0.5, 0.2, 0.3"
   ]
  },
  {
   "cell_type": "code",
   "execution_count": 65,
   "id": "12cda6bb",
   "metadata": {},
   "outputs": [],
   "source": [
    "# Gaussian-Hermite quadrature nodes and weights for order 5\n",
    "ζ_nodes5 = np.array([0,\n",
    "                     0.958572464613819,\n",
    "                     -0.958572464613819,\n",
    "                     0.202018287045609,\n",
    "                     -0.202018287045609])\n",
    "\n",
    "ω_weights5 = np.array([0.945308720482942,\n",
    "                       0.393619323152241,\n",
    "                       0.393619323152241,\n",
    "                       0.0199532420590459,\n",
    "                       0.0199532420590459])"
   ]
  },
  {
   "cell_type": "code",
   "execution_count": 66,
   "id": "d912c92f",
   "metadata": {},
   "outputs": [
    {
     "data": {
      "text/plain": [
       "0.7454196465070009"
      ]
     },
     "execution_count": 66,
     "metadata": {},
     "output_type": "execute_result"
    }
   ],
   "source": [
    "quad(f_integrand, (λ0, λ1, λ2), μ, σ, ζ_nodes5, ω_weights5)"
   ]
  },
  {
   "cell_type": "code",
   "execution_count": 67,
   "id": "10e71f50",
   "metadata": {},
   "outputs": [],
   "source": [
    "# Gaussian-Hermite quadrature nodes and weights for order 10\n",
    "ζ_nodes10 = np.array([0.342901327223704609,\n",
    "                      -0.342901327223704609,\n",
    "                      1.03661082978951365,\n",
    "                      -1.03661082978951365,\n",
    "                      1.75668364929988177,\n",
    "                      -1.75668364929988177,\n",
    "                      2.53273167423278980,\n",
    "                      -2.53273167423278980,\n",
    "                      3.43615911883773760,\n",
    "                      -3.43615911883773760])\n",
    "\n",
    "ω_weights10 = np.array([0.610862633735325799,\n",
    "                        0.610862633735325799,\n",
    "                        0.240138611082314686,\n",
    "                        0.240138611082314686,\n",
    "                        0.0338743944554810631,\n",
    "                        0.0338743944554810631,\n",
    "                        0.00134364574678123269,\n",
    "                        0.00134364574678123269,\n",
    "                        0.764043285523262063e-5,\n",
    "                        0.764043285523262063e-5])"
   ]
  },
  {
   "cell_type": "code",
   "execution_count": 68,
   "id": "2a27fac2",
   "metadata": {},
   "outputs": [
    {
     "data": {
      "text/plain": [
       "0.8"
      ]
     },
     "execution_count": 68,
     "metadata": {},
     "output_type": "execute_result"
    }
   ],
   "source": [
    "quad(f_integrand, (λ0, λ1, λ2), μ, σ, ζ_nodes10, ω_weights10)"
   ]
  },
  {
   "cell_type": "markdown",
   "id": "77bf803c",
   "metadata": {},
   "source": [
    "## Simulation based integration"
   ]
  },
  {
   "cell_type": "markdown",
   "id": "8010532b",
   "metadata": {},
   "source": [
    "`numpy.random`: random sampling, https://numpy.org/doc/stable/reference/random/index.html#module-numpy.random"
   ]
  },
  {
   "cell_type": "code",
   "execution_count": 69,
   "id": "4cfd4b09",
   "metadata": {},
   "outputs": [],
   "source": [
    "np.random.normal?"
   ]
  },
  {
   "cell_type": "code",
   "execution_count": 70,
   "id": "f0efc2e0",
   "metadata": {},
   "outputs": [],
   "source": [
    "np.random.seed(1234)\n",
    "x_normal = np.random.normal(size=10000, loc=0, scale=1)"
   ]
  },
  {
   "cell_type": "code",
   "execution_count": 71,
   "id": "e77c4792",
   "metadata": {},
   "outputs": [
    {
     "data": {
      "image/png": "[encoded data removed]",
      "text/plain": [
       "<Figure size 640x480 with 1 Axes>"
      ]
     },
     "metadata": {},
     "output_type": "display_data"
    }
   ],
   "source": [
    "plt.hist(x_normal, bins=np.linspace(-2, 2, 20));"
   ]
  },
  {
   "cell_type": "code",
   "execution_count": 72,
   "id": "de176030",
   "metadata": {},
   "outputs": [
    {
     "data": {
      "text/plain": [
       "0.8004182241729138"
      ]
     },
     "execution_count": 72,
     "metadata": {},
     "output_type": "execute_result"
    }
   ],
   "source": [
    "f_integrand(x_normal, λ0, λ1, λ2).mean()"
   ]
  },
  {
   "cell_type": "markdown",
   "id": "771ea667",
   "metadata": {},
   "source": [
    "## Cubic spline interpolation"
   ]
  },
  {
   "cell_type": "markdown",
   "id": "6d315efd",
   "metadata": {},
   "source": [
    "`scipy.interpolate`: https://docs.scipy.org/doc/scipy/reference/interpolate.html"
   ]
  },
  {
   "cell_type": "code",
   "execution_count": 73,
   "id": "6137d2bd",
   "metadata": {},
   "outputs": [],
   "source": [
    "x = np.arange(10)\n",
    "y = np.sin(x)"
   ]
  },
  {
   "cell_type": "code",
   "execution_count": 74,
   "id": "e222b2a1",
   "metadata": {},
   "outputs": [
    {
     "data": {
      "text/plain": [
       "<scipy.interpolate._cubic.CubicSpline at 0x7fe567c57e70>"
      ]
     },
     "execution_count": 74,
     "metadata": {},
     "output_type": "execute_result"
    }
   ],
   "source": [
    "cs = CubicSpline(x, y)\n",
    "\n",
    "cs"
   ]
  },
  {
   "cell_type": "code",
   "execution_count": 75,
   "id": "29cb22fe",
   "metadata": {},
   "outputs": [
    {
     "data": {
      "text/plain": [
       "<matplotlib.legend.Legend at 0x7fe567d48df0>"
      ]
     },
     "execution_count": 75,
     "metadata": {},
     "output_type": "execute_result"
    },
    {
     "data": {
      "image/png": "[encoded data removed]",
      "text/plain": [
       "<Figure size 640x480 with 1 Axes>"
      ]
     },
     "metadata": {},
     "output_type": "display_data"
    }
   ],
   "source": [
    "fig = plt.figure()\n",
    "\n",
    "xs = np.arange(-0.5, 9.6, 0.1)\n",
    "\n",
    "plt.plot(x, y, 'o', label='data')\n",
    "plt.plot(xs, np.sin(xs), label='true')\n",
    "plt.plot(xs, cs(xs), label=\"S\")\n",
    "\n",
    "plt.legend()"
   ]
  },
  {
   "cell_type": "markdown",
   "id": "8ffb943b",
   "metadata": {},
   "source": [
    "## Two Period Job Search Model"
   ]
  },
  {
   "cell_type": "code",
   "execution_count": 76,
   "id": "db8dc392",
   "metadata": {},
   "outputs": [],
   "source": [
    "from quantecon.distributions import BetaBinomial\n",
    "\n",
    "import numpy as np\n",
    "from numba import njit\n",
    "from collections import namedtuple"
   ]
  },
  {
   "cell_type": "code",
   "execution_count": 77,
   "id": "c735d146",
   "metadata": {},
   "outputs": [],
   "source": [
    "BetaBinomial?"
   ]
  },
  {
   "cell_type": "code",
   "execution_count": 78,
   "id": "2e2c73d0",
   "metadata": {},
   "outputs": [],
   "source": [
    "namedtuple?"
   ]
  },
  {
   "cell_type": "code",
   "execution_count": 79,
   "id": "6db38ea1",
   "metadata": {},
   "outputs": [],
   "source": [
    "# NamedTuple Model\n",
    "Model = namedtuple(\"Model\", (\"n\", \"w_vals\", \"φ\", \"β\", \"c\"))"
   ]
  },
  {
   "cell_type": "code",
   "execution_count": 80,
   "id": "7c242834",
   "metadata": {},
   "outputs": [],
   "source": [
    "def create_job_search_model(\n",
    "        n=50,        # wage grid size\n",
    "        w_min=10.0,  # lowest wage\n",
    "        w_max=60.0,  # highest wage\n",
    "        a=200,       # wage distribution parameter\n",
    "        b=100,       # wage distribution parameter\n",
    "        β=0.96,      # discount factor\n",
    "        c=10.0       # unemployment compensation\n",
    "    ):\n",
    "    \"\"\"\n",
    "    Creates the parameters for job search model and returns the\n",
    "    instance of namedtuple Model\n",
    "    \"\"\"\n",
    "    w_vals = np.linspace(w_min, w_max, n+1)\n",
    "    φ = BetaBinomial(n, a, b).pdf()\n",
    "    return Model(n=n, w_vals=w_vals, φ=φ, β=β, c=c)"
   ]
  },
  {
   "cell_type": "code",
   "execution_count": 81,
   "id": "3f1351b9",
   "metadata": {},
   "outputs": [],
   "source": [
    "model = create_job_search_model()"
   ]
  },
  {
   "cell_type": "code",
   "execution_count": 82,
   "id": "7440f993",
   "metadata": {},
   "outputs": [],
   "source": [
    "n, w_vals, φ, β, c = model"
   ]
  },
  {
   "cell_type": "code",
   "execution_count": 83,
   "id": "a613cd97",
   "metadata": {},
   "outputs": [
    {
     "data": {
      "text/plain": [
       "51"
      ]
     },
     "execution_count": 83,
     "metadata": {},
     "output_type": "execute_result"
    }
   ],
   "source": [
    "w_vals.size"
   ]
  },
  {
   "cell_type": "code",
   "execution_count": 84,
   "id": "c5928c64",
   "metadata": {},
   "outputs": [
    {
     "data": {
      "text/plain": [
       "array([10., 11., 12., 13., 14., 15., 16., 17., 18., 19., 20., 21., 22.,\n",
       "       23., 24., 25., 26., 27., 28., 29., 30., 31., 32., 33., 34., 35.,\n",
       "       36., 37., 38., 39., 40., 41., 42., 43., 44., 45., 46., 47., 48.,\n",
       "       49., 50., 51., 52., 53., 54., 55., 56., 57., 58., 59., 60.])"
      ]
     },
     "execution_count": 84,
     "metadata": {},
     "output_type": "execute_result"
    }
   ],
   "source": [
    "w_vals"
   ]
  },
  {
   "cell_type": "code",
   "execution_count": 85,
   "id": "43ff889a",
   "metadata": {},
   "outputs": [
    {
     "data": {
      "text/plain": [
       "51"
      ]
     },
     "execution_count": 85,
     "metadata": {},
     "output_type": "execute_result"
    }
   ],
   "source": [
    "φ.size"
   ]
  },
  {
   "cell_type": "code",
   "execution_count": 86,
   "id": "84d252d5",
   "metadata": {},
   "outputs": [
    {
     "data": {
      "image/png": "[encoded data removed]",
      "text/plain": [
       "<Figure size 640x480 with 1 Axes>"
      ]
     },
     "metadata": {},
     "output_type": "display_data"
    }
   ],
   "source": [
    "plt.plot(w_vals, φ);"
   ]
  },
  {
   "cell_type": "code",
   "execution_count": 87,
   "id": "17c7276a",
   "metadata": {},
   "outputs": [
    {
     "data": {
      "text/plain": [
       "1.0000000000002227"
      ]
     },
     "execution_count": 87,
     "metadata": {},
     "output_type": "execute_result"
    }
   ],
   "source": [
    "φ.sum()"
   ]
  },
  {
   "cell_type": "markdown",
   "id": "5755f546",
   "metadata": {},
   "source": [
    "$$\n",
    "v_{1}\\left(w_{1}\\right)\t=\\max\\left\\{ w_{1}+\\beta w_{1},c+\\beta\\sum_{w^{\\prime}\\in W}v_{2}\\left(w^{\\prime}\\right)\\varphi\\left(w^{\\prime}\\right)\\right\\} \n",
    "\t=\\max\\left\\{ w_{1}+\\beta w_{1},h_{1}\\right\\} \\\\\n",
    "v_{2}\\left(w\\right)=\\max\\left\\{ c,w\\right\\} \\\\\n",
    "$$"
   ]
  },
  {
   "cell_type": "code",
   "execution_count": 88,
   "id": "455b2b59",
   "metadata": {},
   "outputs": [],
   "source": [
    "@njit\n",
    "def v_1(w, model):\n",
    "    \"\"\"\n",
    "    Computes lifetime value at t=1 given current wage w_1 = w\n",
    "    \"\"\"\n",
    "    β, c = model.β, model.c\n",
    "    s = np.maximum(c, model.w_vals)           # which is v2\n",
    "    h_1 = c + β * np.sum(s * model.φ)\n",
    "    return np.maximum(w + β * w, h_1)"
   ]
  },
  {
   "cell_type": "markdown",
   "id": "ac53be1d",
   "metadata": {},
   "source": [
    "$$\n",
    "w_{1}^{*}:=\\frac{h_{1}}{1+\\beta}\n",
    "$$"
   ]
  },
  {
   "cell_type": "code",
   "execution_count": 89,
   "id": "43d4202e",
   "metadata": {},
   "outputs": [],
   "source": [
    "@njit\n",
    "def res_wage(model):\n",
    "    \"\"\"\n",
    "    Computes reservation wage at t=1\n",
    "    \"\"\"\n",
    "    β, c = model.β, model.c\n",
    "    s = np.maximum(c, model.w_vals)\n",
    "    h_1 = c + β * np.sum(s * model.φ)\n",
    "    return h_1 / (1 + β)"
   ]
  },
  {
   "cell_type": "code",
   "execution_count": 90,
   "id": "2c353196",
   "metadata": {},
   "outputs": [
    {
     "data": {
      "text/plain": [
       "26.326530612249694"
      ]
     },
     "execution_count": 90,
     "metadata": {},
     "output_type": "execute_result"
    }
   ],
   "source": [
    "w_star = res_wage(model)\n",
    "\n",
    "w_star"
   ]
  },
  {
   "cell_type": "code",
   "execution_count": 91,
   "id": "b3fae372",
   "metadata": {
    "scrolled": false
   },
   "outputs": [
    {
     "data": {
      "text/plain": [
       "[<matplotlib.lines.Line2D at 0x7fe567af0af0>]"
      ]
     },
     "execution_count": 91,
     "metadata": {},
     "output_type": "execute_result"
    },
    {
     "data": {
      "image/png": "[encoded data removed]",
      "text/plain": [
       "<Figure size 640x480 with 1 Axes>"
      ]
     },
     "metadata": {},
     "output_type": "display_data"
    }
   ],
   "source": [
    "v = np.array([v_1(w, model) for w in w_vals])\n",
    "\n",
    "plt.plot(w_vals, v)"
   ]
  },
  {
   "cell_type": "code",
   "execution_count": 92,
   "id": "d43c455d",
   "metadata": {},
   "outputs": [],
   "source": [
    "##### Plots #####\n",
    "\n",
    "import matplotlib.pyplot as plt\n",
    "import matplotlib.pyplot as plt\n",
    "\n",
    "plt.rcParams.update({\"text.usetex\": True, \"font.size\": 14})\n",
    "\n",
    "\n",
    "default_model = create_job_search_model()\n",
    "\n",
    "\n",
    "def fig_dist(model=default_model, fs=10):\n",
    "    \"\"\"\n",
    "    Plot the distribution of wages\n",
    "    \"\"\"\n",
    "    fig, ax = plt.subplots()\n",
    "    ax.plot(model.w_vals, model.φ, \"-o\", alpha=0.5, label=\"wage distribution\")\n",
    "    ax.legend(loc=\"upper left\", fontsize=fs)\n",
    "\n",
    "\n",
    "def fig_v1(model=default_model, savefig=False,\n",
    "                  figname=\"./figures/iid_job_search_0_py.pdf\", fs=18):\n",
    "    \"\"\"\n",
    "    Plot two-period value function and res wage\n",
    "    \"\"\"\n",
    "    n, w_vals, φ, β, c = model\n",
    "\n",
    "    v = [v_1(w, model) for w in w_vals]\n",
    "    w_star = res_wage(model)\n",
    "    s = np.maximum(c, w_vals)\n",
    "    continuation_val = c + β * np.sum(s * φ)\n",
    "    min_w, max_w = np.min(w_vals), np.max(w_vals)\n",
    "\n",
    "    fontdict = {'fontsize': 10}\n",
    "    fig, ax = plt.subplots(figsize=(9, 5.5))\n",
    "    ax.set_ylim(0, 120)\n",
    "    ax.set_xlim(min_w, max_w)\n",
    "    ax.vlines((w_star,), (0,), (continuation_val,), lw=0.5)\n",
    "    ax.set_yticks((0, 50, 100))\n",
    "    ax.set_yticklabels((0, 50, 100), fontdict=fontdict)\n",
    "    ax.set_xticks((min_w, w_star, max_w))\n",
    "    ax.set_xticklabels((min_w, r\"$w^*_1$\", max_w), fontdict=fontdict)\n",
    "    ax.plot(w_vals, w_vals + β * w_vals, alpha=0.8, linewidth=3,\n",
    "            label=r\"$w_1 + \\beta w_1$\")\n",
    "    ax.plot(w_vals, [continuation_val]*(n+1), linewidth=3, alpha=0.8,\n",
    "            label=r\"$c + \\beta \\sum_{w'} \\max\\{c, w'\\} \\varphi(w')$\" )\n",
    "    ax.plot(w_vals, v, \"k--\", markersize=2, alpha=1.0, linewidth=2,\n",
    "            label=r\"$v_1(w_1)$\")\n",
    "    ax.legend(frameon=False, fontsize=fs, loc=\"upper left\")\n",
    "    if savefig:\n",
    "        fig.savefig(figname)"
   ]
  },
  {
   "cell_type": "code",
   "execution_count": 93,
   "id": "b0c02d63",
   "metadata": {},
   "outputs": [
    {
     "data": {
      "image/png": "[encoded data removed]",
      "text/plain": [
       "<Figure size 900x550 with 1 Axes>"
      ]
     },
     "metadata": {},
     "output_type": "display_data"
    }
   ],
   "source": [
    "fig_v1()"
   ]
  },
  {
   "cell_type": "markdown",
   "id": "0f8cb604",
   "metadata": {},
   "source": [
    "## Three Period Job Search Model"
   ]
  },
  {
   "cell_type": "markdown",
   "id": "8ab6123d",
   "metadata": {},
   "source": [
    "$$\n",
    "v_{2}\\left(w_{3}\\right)=\\max\\left\\{ c,w_{2}\\right\\}  \\\\\n",
    "v_{t}\\left(w_{t}\\right)=\\max\\left\\{ w_{t}+\\sum_{i=1}^{T-t}\\beta^{i}w_{t},c+\\beta\\sum_{w^{\\prime}\\in W}v_{t+1}\\left(w^{\\prime}\\right)\\varphi\\left(w^{\\prime}\\right)\\right\\} ,\\quad t=0,1\n",
    "$$"
   ]
  },
  {
   "cell_type": "code",
   "execution_count": 94,
   "id": "d044e925",
   "metadata": {},
   "outputs": [],
   "source": [
    "# @njit\n",
    "# def v_1(w, model):\n",
    "#     \"\"\"\n",
    "#     Computes lifetime value at t=1 given current wage w_1 = w\n",
    "#     \"\"\"\n",
    "#     β, c = model.β, model.c\n",
    "#     s = np.maximum(c, model.w_vals)          # which is v2\n",
    "#     h_1 = c + β * np.sum(s * model.φ)\n",
    "#     return np.maximum(w + β * w, h_1)"
   ]
  },
  {
   "cell_type": "code",
   "execution_count": 95,
   "id": "89b7128f",
   "metadata": {},
   "outputs": [],
   "source": [
    "@njit\n",
    "def v_t(w, t, v_next, model):\n",
    "    \"\"\"\n",
    "    Computes lifetime value at t given current wage w_t = w and v_{t+1}\n",
    "    \"\"\"\n",
    "    β, c = model.β, model.c\n",
    "    h_t = c + β * np.sum(v_next * model.φ)\n",
    "    z_t = w * (β ** np.arange(0, 3-t, 1)).sum()\n",
    "    return np.maximum(z_t, h_t)"
   ]
  },
  {
   "cell_type": "code",
   "execution_count": 96,
   "id": "e4716996",
   "metadata": {},
   "outputs": [
    {
     "data": {
      "text/plain": [
       "<matplotlib.legend.Legend at 0x7fe567927940>"
      ]
     },
     "execution_count": 96,
     "metadata": {},
     "output_type": "execute_result"
    },
    {
     "data": {
      "image/png": "[encoded data removed]",
      "text/plain": [
       "<Figure size 640x480 with 1 Axes>"
      ]
     },
     "metadata": {},
     "output_type": "display_data"
    }
   ],
   "source": [
    "v2 = np.maximum(c, w_vals)\n",
    "\n",
    "plt.plot(w_vals, v2, label='v2')\n",
    "plt.legend()"
   ]
  },
  {
   "cell_type": "code",
   "execution_count": 97,
   "id": "b85f9a25",
   "metadata": {},
   "outputs": [
    {
     "data": {
      "text/plain": [
       "<matplotlib.legend.Legend at 0x7fe56771e860>"
      ]
     },
     "execution_count": 97,
     "metadata": {},
     "output_type": "execute_result"
    },
    {
     "data": {
      "image/png": "[encoded data removed]",
      "text/plain": [
       "<Figure size 640x480 with 1 Axes>"
      ]
     },
     "metadata": {},
     "output_type": "display_data"
    }
   ],
   "source": [
    "t = 1\n",
    "v1 = np.array([v_t(w, t, v2, model) for w in w_vals])\n",
    "\n",
    "plt.plot(w_vals, v2, label='v2')\n",
    "plt.plot(w_vals, v1, label='v1')\n",
    "plt.legend()"
   ]
  },
  {
   "cell_type": "code",
   "execution_count": 98,
   "id": "dc1f0ef6",
   "metadata": {},
   "outputs": [
    {
     "data": {
      "text/plain": [
       "1.4210854715202004e-14"
      ]
     },
     "execution_count": 98,
     "metadata": {},
     "output_type": "execute_result"
    }
   ],
   "source": [
    "np.max(np.abs(v1 - v))"
   ]
  },
  {
   "cell_type": "code",
   "execution_count": 99,
   "id": "5492ed24",
   "metadata": {
    "scrolled": false
   },
   "outputs": [
    {
     "data": {
      "text/plain": [
       "<matplotlib.legend.Legend at 0x7fe567c815d0>"
      ]
     },
     "execution_count": 99,
     "metadata": {},
     "output_type": "execute_result"
    },
    {
     "data": {
      "image/png": "[encoded data removed]",
      "text/plain": [
       "<Figure size 640x480 with 1 Axes>"
      ]
     },
     "metadata": {},
     "output_type": "display_data"
    }
   ],
   "source": [
    "t = 0\n",
    "v0 = np.array([v_t(w, t, v1, model) for w in w_vals])\n",
    "\n",
    "plt.plot(w_vals, v0, label='v0')\n",
    "plt.plot(w_vals, v1, label='v1')\n",
    "plt.plot(w_vals, v2, label='v2')\n",
    "plt.legend()"
   ]
  },
  {
   "cell_type": "markdown",
   "id": "c5d4f3d0",
   "metadata": {},
   "source": [
    "Use array to avoid generating mulptile variable $v_{t}$."
   ]
  },
  {
   "cell_type": "code",
   "execution_count": 100,
   "id": "721f46e7",
   "metadata": {},
   "outputs": [
    {
     "data": {
      "text/plain": [
       "(51, 3)"
      ]
     },
     "execution_count": 100,
     "metadata": {},
     "output_type": "execute_result"
    }
   ],
   "source": [
    "T = 3\n",
    "v_arr = np.empty((model.w_vals.size, 3))\n",
    "\n",
    "v_arr.shape"
   ]
  },
  {
   "cell_type": "code",
   "execution_count": 101,
   "id": "0528471b",
   "metadata": {},
   "outputs": [],
   "source": [
    "# v2 = np.maximum(c, w_vals)\n",
    "v_arr[:, 2] = np.maximum(c, w_vals)\n",
    "\n",
    "t = 1\n",
    "v_arr[:, t] = np.array([v_t(w, t, v_arr[:, t+1], model) for w in w_vals])\n",
    "\n",
    "t = 0\n",
    "v_arr[:, t] = np.array([v_t(w, t, v_arr[:, t+1], model) for w in w_vals])"
   ]
  },
  {
   "cell_type": "code",
   "execution_count": 102,
   "id": "ef4f43ab",
   "metadata": {},
   "outputs": [
    {
     "data": {
      "text/plain": [
       "0.0"
      ]
     },
     "execution_count": 102,
     "metadata": {},
     "output_type": "execute_result"
    }
   ],
   "source": [
    "np.max(np.abs(v_arr[:, 2] - v2))"
   ]
  },
  {
   "cell_type": "code",
   "execution_count": 103,
   "id": "d492d7b5",
   "metadata": {},
   "outputs": [
    {
     "data": {
      "text/plain": [
       "0.0"
      ]
     },
     "execution_count": 103,
     "metadata": {},
     "output_type": "execute_result"
    }
   ],
   "source": [
    "np.max(np.abs(v_arr[:, 1] - v1))"
   ]
  },
  {
   "cell_type": "code",
   "execution_count": 104,
   "id": "f6733925",
   "metadata": {},
   "outputs": [
    {
     "data": {
      "text/plain": [
       "0.0"
      ]
     },
     "execution_count": 104,
     "metadata": {},
     "output_type": "execute_result"
    }
   ],
   "source": [
    "np.max(np.abs(v_arr[:, 0] - v0))"
   ]
  },
  {
   "cell_type": "markdown",
   "id": "71a5d7a1",
   "metadata": {},
   "source": [
    "# For loops"
   ]
  },
  {
   "cell_type": "code",
   "execution_count": 105,
   "id": "6037dc71",
   "metadata": {},
   "outputs": [
    {
     "name": "stdout",
     "output_type": "stream",
     "text": [
      "0\n",
      "1\n",
      "2\n",
      "3\n",
      "4\n",
      "5\n",
      "6\n",
      "7\n",
      "8\n",
      "9\n"
     ]
    }
   ],
   "source": [
    "for i in range(10):\n",
    "    print(i)"
   ]
  },
  {
   "cell_type": "code",
   "execution_count": 106,
   "id": "bcaf4ae3",
   "metadata": {},
   "outputs": [
    {
     "name": "stdout",
     "output_type": "stream",
     "text": [
      "0\n",
      "1\n",
      "2\n",
      "3\n",
      "4\n",
      "5\n",
      "6\n",
      "7\n",
      "8\n",
      "9\n"
     ]
    }
   ],
   "source": [
    "for i in range(0, 10, 1):\n",
    "    print(i)"
   ]
  },
  {
   "cell_type": "code",
   "execution_count": 107,
   "id": "b89c4787",
   "metadata": {},
   "outputs": [
    {
     "name": "stdout",
     "output_type": "stream",
     "text": [
      "9\n",
      "8\n",
      "7\n",
      "6\n",
      "5\n",
      "4\n",
      "3\n",
      "2\n",
      "1\n",
      "0\n"
     ]
    }
   ],
   "source": [
    "for i in range(9, -1, -1):\n",
    "    print(i)"
   ]
  },
  {
   "cell_type": "code",
   "execution_count": null,
   "id": "83aa4f2b",
   "metadata": {},
   "outputs": [],
   "source": []
  }
 ],
 "metadata": {
  "kernelspec": {
   "display_name": "Python [conda env:quantecon]",
   "language": "python",
   "name": "conda-env-quantecon-py"
  },
  "language_info": {
   "codemirror_mode": {
    "name": "ipython",
    "version": 3
   },
   "file_extension": ".py",
   "mimetype": "text/x-python",
   "name": "python",
   "nbconvert_exporter": "python",
   "pygments_lexer": "ipython3",
   "version": "3.10.13"
  }
 },
 "nbformat": 4,
 "nbformat_minor": 5
}
