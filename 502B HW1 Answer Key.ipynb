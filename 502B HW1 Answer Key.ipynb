{
 "cells": [
  {
   "cell_type": "code",
   "execution_count": 1,
   "id": "a180c063",
   "metadata": {},
   "outputs": [],
   "source": [
    "import numpy as np\n",
    "from quantecon.optimize import brent_max, brentq\n",
    "from collections import namedtuple\n",
    "from numba import njit\n",
    "import matplotlib.pyplot as plt\n",
    "from scipy.optimize import root, minimize\n",
    "from quantecon.distributions import BetaBinomial"
   ]
  },
  {
   "cell_type": "markdown",
   "id": "e1fa37a5",
   "metadata": {},
   "source": [
    "## Q1"
   ]
  },
  {
   "cell_type": "markdown",
   "id": "fcd445dc",
   "metadata": {},
   "source": [
    "### (a)"
   ]
  },
  {
   "cell_type": "markdown",
   "id": "d00022c9",
   "metadata": {},
   "source": [
    "$$\n",
    "MR\\left(q\\right)=a+2bq \\\\\n",
    "MC\\left(q\\right)=c_{1}\\exp\\left(q\\right)\n",
    "$$"
   ]
  },
  {
   "cell_type": "code",
   "execution_count": 2,
   "id": "53bfd867",
   "metadata": {},
   "outputs": [],
   "source": [
    "ModelMonopoly = namedtuple(\"Model\", (\"a\", \"b\", \"c1\"))\n",
    "\n",
    "def create_monopoly_model(a=200, b=-1, c1=1):\n",
    "    return ModelMonopoly(a=a, b=b, c1=c1)"
   ]
  },
  {
   "cell_type": "code",
   "execution_count": 3,
   "id": "45aca350",
   "metadata": {},
   "outputs": [
    {
     "data": {
      "text/plain": [
       "Model(a=200, b=-1, c1=1)"
      ]
     },
     "execution_count": 3,
     "metadata": {},
     "output_type": "execute_result"
    }
   ],
   "source": [
    "model_mono = create_monopoly_model()\n",
    "\n",
    "model_mono"
   ]
  },
  {
   "cell_type": "code",
   "execution_count": 4,
   "id": "054ca536",
   "metadata": {},
   "outputs": [],
   "source": [
    "@njit\n",
    "def MR(q, model):\n",
    "    a, b, c1 = model.a, model.b, model.c1\n",
    "\n",
    "    return a + 2 * b * q\n",
    "\n",
    "@njit\n",
    "def MC(q, model):\n",
    "    a, b, c1 = model.a, model.b, model.c1\n",
    "\n",
    "    return c1 * np.exp(q)"
   ]
  },
  {
   "cell_type": "code",
   "execution_count": 5,
   "id": "9758ca94",
   "metadata": {},
   "outputs": [
    {
     "data": {
      "text/plain": [
       "Text(0, 0.5, 'MR/MC')"
      ]
     },
     "execution_count": 5,
     "metadata": {},
     "output_type": "execute_result"
    },
    {
     "data": {
      "image/png": "[encoded data removed]",
      "text/plain": [
       "<Figure size 640x480 with 1 Axes>"
      ]
     },
     "metadata": {},
     "output_type": "display_data"
    }
   ],
   "source": [
    "q_range = np.arange(0.1, 7, 0.1)\n",
    "\n",
    "plt.plot(q_range, MR(q_range, model_mono), label='MR')\n",
    "plt.plot(q_range, MC(q_range, model_mono), label='MC')\n",
    "\n",
    "plt.legend()\n",
    "plt.xlabel('$q$')\n",
    "plt.ylabel('MR/MC')"
   ]
  },
  {
   "cell_type": "markdown",
   "id": "406a0193",
   "metadata": {},
   "source": [
    "### (a*) plot with jax.grad"
   ]
  },
  {
   "cell_type": "code",
   "execution_count": 6,
   "id": "1a1a09b1",
   "metadata": {},
   "outputs": [],
   "source": [
    "@njit\n",
    "def π(q, model):\n",
    "\n",
    "    a, b, c1 = model.a, model.b, model.c1\n",
    "\n",
    "    R = (a + b * q) * q\n",
    "    VC = c1 * np.exp(q)   # variant cost\n",
    "\n",
    "    return R - VC"
   ]
  },
  {
   "cell_type": "code",
   "execution_count": 7,
   "id": "199e233f",
   "metadata": {},
   "outputs": [],
   "source": [
    "brent_max?"
   ]
  },
  {
   "cell_type": "code",
   "execution_count": 8,
   "id": "ca9a02d8",
   "metadata": {},
   "outputs": [
    {
     "data": {
      "text/plain": [
       "(5.244448553501892, 831.8741889926798, (0, 10))"
      ]
     },
     "execution_count": 8,
     "metadata": {},
     "output_type": "execute_result"
    }
   ],
   "source": [
    "q_min = 4\n",
    "q_max = 7\n",
    "\n",
    "brent_max(π, q_min, q_max, args=(model_mono,))"
   ]
  },
  {
   "cell_type": "markdown",
   "id": "61d42a08",
   "metadata": {},
   "source": [
    "### (b*) solve MR=MC"
   ]
  },
  {
   "cell_type": "code",
   "execution_count": 9,
   "id": "823a24be",
   "metadata": {},
   "outputs": [
    {
     "data": {
      "text/plain": [
       "results(root=5.24444762308912, function_calls=11, iterations=10, converged=True)"
      ]
     },
     "execution_count": 9,
     "metadata": {},
     "output_type": "execute_result"
    }
   ],
   "source": [
    "brentq(njit(lambda q: MR(q, model_mono) - MC(q, model_mono)),\n",
    "       q_min, q_max)"
   ]
  },
  {
   "cell_type": "markdown",
   "id": "8b4be7cd",
   "metadata": {},
   "source": [
    "## Q2"
   ]
  },
  {
   "cell_type": "markdown",
   "id": "a3f09cb2",
   "metadata": {},
   "source": [
    "### (a)"
   ]
  },
  {
   "cell_type": "markdown",
   "id": "deaf54ef",
   "metadata": {},
   "source": [
    "FOC w.r.t. $h$\n",
    "\n",
    "$$\n",
    "w\\left(wh+N\\right)^{\\eta}-\\alpha h^{\\gamma}=0\n",
    "$$"
   ]
  },
  {
   "cell_type": "markdown",
   "id": "3efcd536",
   "metadata": {},
   "source": [
    "### (b)"
   ]
  },
  {
   "cell_type": "code",
   "execution_count": 10,
   "id": "679f75d4",
   "metadata": {},
   "outputs": [],
   "source": [
    "ModelLaborSupply = namedtuple(\"Model\", (\"η\", \"γ\", \"α\", \"w\", \"N\"))\n",
    "\n",
    "def create_ls_model(η=-0.5, γ=0.25, α=0.75, w=15, N=30):\n",
    "    return ModelLaborSupply(η=η, γ=γ, α=α, w=w, N=N)"
   ]
  },
  {
   "cell_type": "code",
   "execution_count": 11,
   "id": "1b83c2c6",
   "metadata": {},
   "outputs": [
    {
     "data": {
      "text/plain": [
       "Model(η=-0.5, γ=0.25, α=0.75, w=15, N=30)"
      ]
     },
     "execution_count": 11,
     "metadata": {},
     "output_type": "execute_result"
    }
   ],
   "source": [
    "model_ls = create_ls_model()\n",
    "\n",
    "model_ls"
   ]
  },
  {
   "cell_type": "code",
   "execution_count": 12,
   "id": "f81feaf4",
   "metadata": {},
   "outputs": [],
   "source": [
    "@njit\n",
    "def foc(h, model):\n",
    "    η, γ, α, w, N = model.η, model.γ, model.α, model.w, model.N\n",
    "\n",
    "    term1 = w * (w * h + N) ** η\n",
    "    term2 = α * h ** γ\n",
    "\n",
    "    return term1 - term2"
   ]
  },
  {
   "cell_type": "code",
   "execution_count": 13,
   "id": "fdf4e56a",
   "metadata": {},
   "outputs": [
    {
     "data": {
      "text/plain": [
       "Text(0, 0.5, 'FOC w.r.t. $h$')"
      ]
     },
     "execution_count": 13,
     "metadata": {},
     "output_type": "execute_result"
    },
    {
     "data": {
      "image/png": "[encoded data removed]",
      "text/plain": [
       "<Figure size 640x480 with 1 Axes>"
      ]
     },
     "metadata": {},
     "output_type": "display_data"
    }
   ],
   "source": [
    "h_range = np.arange(1e-3, 10, 0.1)\n",
    "\n",
    "plt.plot(h_range, foc(h_range, model_ls))\n",
    "plt.hlines(0, h_range.min(), h_range.max(), color='r', linestyle='--')\n",
    "\n",
    "plt.xlabel('$h$')\n",
    "plt.ylabel('FOC w.r.t. $h$')"
   ]
  },
  {
   "cell_type": "code",
   "execution_count": 14,
   "id": "5af570be",
   "metadata": {},
   "outputs": [
    {
     "data": {
      "text/plain": [
       "results(root=7.644697076637788, function_calls=9, iterations=8, converged=True)"
      ]
     },
     "execution_count": 14,
     "metadata": {},
     "output_type": "execute_result"
    }
   ],
   "source": [
    "brentq(foc, 1e-3, 10, args=(model_ls,))"
   ]
  },
  {
   "cell_type": "markdown",
   "id": "eff178af",
   "metadata": {},
   "source": [
    "## Q3"
   ]
  },
  {
   "cell_type": "markdown",
   "id": "bcaf93a7",
   "metadata": {},
   "source": [
    "### (a)"
   ]
  },
  {
   "cell_type": "markdown",
   "id": "5275ddb4",
   "metadata": {},
   "source": [
    "BR1 (given $q_2$):\n",
    "\n",
    "$$\n",
    "a+2bq_{1}+bq_{2}-c_{1}\\exp\\left(q_{1}\\right) = 0\n",
    "$$\n",
    "\n",
    "BR2 (given $q_1$):\n",
    "\n",
    "$$\n",
    "a+2bq_{2}+bq_{1}-c_{1}\\exp\\left(q_{2}\\right) = 0\n",
    "$$"
   ]
  },
  {
   "cell_type": "code",
   "execution_count": 15,
   "id": "23883504",
   "metadata": {},
   "outputs": [],
   "source": [
    "ModelCournot = namedtuple(\"Model\", (\"a\", \"b\", \"c1\"))\n",
    "\n",
    "def create_cournot_model(a=200, b=-1, c1=1):\n",
    "    return ModelCournot(a=a, b=b, c1=c1)"
   ]
  },
  {
   "cell_type": "code",
   "execution_count": 16,
   "id": "2e66812f",
   "metadata": {},
   "outputs": [
    {
     "data": {
      "text/plain": [
       "Model(a=200, b=-1, c1=1)"
      ]
     },
     "execution_count": 16,
     "metadata": {},
     "output_type": "execute_result"
    }
   ],
   "source": [
    "model_cournot = create_cournot_model()\n",
    "\n",
    "model_cournot"
   ]
  },
  {
   "cell_type": "code",
   "execution_count": 17,
   "id": "c4bb6bf1",
   "metadata": {},
   "outputs": [],
   "source": [
    "@njit\n",
    "def q_foc(q, q_opp, model):\n",
    "    a, b, c1 = model.a, model.b, model.c1\n",
    "\n",
    "    MR = a + 2 * b * q + b * q_opp\n",
    "    MC = c1 * np.exp(q)\n",
    "\n",
    "    return MR - MC\n",
    "\n",
    "@njit\n",
    "def q_br(q_opp, model):\n",
    "    a, b, c1 = model.a, model.b, model.c1\n",
    "\n",
    "    res = brentq(q_foc, 1e-3, 100, args=(q_opp, model))\n",
    "    q_opt = res.root\n",
    "\n",
    "    return q_opt"
   ]
  },
  {
   "cell_type": "code",
   "execution_count": 18,
   "id": "6bf15889",
   "metadata": {},
   "outputs": [
    {
     "data": {
      "text/plain": [
       "[<matplotlib.lines.Line2D at 0x7f5b34258940>]"
      ]
     },
     "execution_count": 18,
     "metadata": {},
     "output_type": "execute_result"
    },
    {
     "data": {
      "image/png": "[encoded data removed]",
      "text/plain": [
       "<Figure size 640x480 with 1 Axes>"
      ]
     },
     "metadata": {},
     "output_type": "display_data"
    }
   ],
   "source": [
    "q_range = np.linspace(1e-3, 20, 100)\n",
    "q_br_arr = [q_br(q_opp, model_cournot) for q_opp in q_range]\n",
    "\n",
    "plt.plot(q_range, q_br_arr)\n",
    "plt.plot(q_br_arr, q_range)"
   ]
  },
  {
   "cell_type": "markdown",
   "id": "e3b518fc",
   "metadata": {},
   "source": [
    "### (b)"
   ]
  },
  {
   "cell_type": "code",
   "execution_count": 19,
   "id": "565b744d",
   "metadata": {},
   "outputs": [],
   "source": [
    "@njit\n",
    "def br_eqs(q_vec, model):\n",
    "\n",
    "    q1, q2 = q_vec\n",
    "    qs_br = np.array([q_br(q2, model), q_br(q1, model)])\n",
    "\n",
    "    return qs_br"
   ]
  },
  {
   "cell_type": "code",
   "execution_count": 20,
   "id": "2c87345e",
   "metadata": {},
   "outputs": [
    {
     "data": {
      "text/plain": [
       " message: The solution converged.\n",
       " success: True\n",
       "  status: 1\n",
       "     fun: [ 0.000e+00  0.000e+00]\n",
       "       x: [ 5.217e+00  5.217e+00]\n",
       "  method: hybr\n",
       "    nfev: 6\n",
       "    fjac: [[-1.000e+00 -5.363e-03]\n",
       "           [ 5.363e-03 -1.000e+00]]\n",
       "       r: [-1.000e+00 -1.073e-02 -1.000e+00]\n",
       "     qtf: [ 2.072e-12  2.049e-12]"
      ]
     },
     "execution_count": 20,
     "metadata": {},
     "output_type": "execute_result"
    }
   ],
   "source": [
    "res = root(njit(lambda q_vec: q_vec - br_eqs(q_vec, model_cournot)),\n",
    "           x0=np.array([5., 5.]),\n",
    "           method='hybr')\n",
    "\n",
    "res"
   ]
  },
  {
   "cell_type": "code",
   "execution_count": 21,
   "id": "fdac2ad7",
   "metadata": {},
   "outputs": [
    {
     "data": {
      "text/plain": [
       "array([5.21683341, 5.21683341])"
      ]
     },
     "execution_count": 21,
     "metadata": {},
     "output_type": "execute_result"
    }
   ],
   "source": [
    "res.x"
   ]
  },
  {
   "cell_type": "markdown",
   "id": "4d50b790",
   "metadata": {},
   "source": [
    "### (b*) minimize squared difference sum"
   ]
  },
  {
   "cell_type": "code",
   "execution_count": 22,
   "id": "36228fc2",
   "metadata": {},
   "outputs": [
    {
     "data": {
      "text/plain": [
       "       message: Optimization terminated successfully.\n",
       "       success: True\n",
       "        status: 0\n",
       "           fun: 8.507230807697257e-10\n",
       "             x: [ 5.217e+00  5.217e+00]\n",
       "           nit: 27\n",
       "          nfev: 53\n",
       " final_simplex: (array([[ 5.217e+00,  5.217e+00],\n",
       "                       [ 5.217e+00,  5.217e+00],\n",
       "                       [ 5.217e+00,  5.217e+00]]), array([ 8.507e-10,  3.510e-09,  5.874e-09]))"
      ]
     },
     "execution_count": 22,
     "metadata": {},
     "output_type": "execute_result"
    }
   ],
   "source": [
    "res = minimize(njit(lambda q_vec: np.sum((q_vec - br_eqs(q_vec, model_cournot)) ** 2)),\n",
    "               x0=np.array([5., 5.]),\n",
    "               method='nelder-mead')\n",
    "\n",
    "res"
   ]
  },
  {
   "cell_type": "code",
   "execution_count": 23,
   "id": "c05c8640",
   "metadata": {},
   "outputs": [
    {
     "data": {
      "text/plain": [
       "array([5.21685796, 5.21681739])"
      ]
     },
     "execution_count": 23,
     "metadata": {},
     "output_type": "execute_result"
    }
   ],
   "source": [
    "res.x"
   ]
  },
  {
   "cell_type": "markdown",
   "id": "5b8cf854",
   "metadata": {},
   "source": [
    "## Q4"
   ]
  },
  {
   "cell_type": "markdown",
   "id": "f186750b",
   "metadata": {},
   "source": [
    "### (a)"
   ]
  },
  {
   "cell_type": "code",
   "execution_count": 24,
   "id": "0b15b150",
   "metadata": {},
   "outputs": [],
   "source": [
    "# NamedTuple Model\n",
    "ModelJobSearch = namedtuple(\"Model\", (\"n\", \"w_vals\", \"φ\", \"β\", \"c\", \"T\"))\n",
    "\n",
    "def create_job_search_model(\n",
    "        n=50,        # wage grid size\n",
    "        w_min=10.0,  # lowest wage\n",
    "        w_max=60.0,  # highest wage\n",
    "        a=200,       # wage distribution parameter\n",
    "        b=100,       # wage distribution parameter\n",
    "        β=0.96,      # discount factor\n",
    "        c=10.0,       # unemployment compensation\n",
    "        T=3\n",
    "    ):\n",
    "    \"\"\"\n",
    "    Creates the parameters for job search model and returns the\n",
    "    instance of namedtuple Model\n",
    "    \"\"\"\n",
    "    w_vals = np.linspace(w_min, w_max, n+1)\n",
    "    φ = BetaBinomial(n, a, b).pdf()\n",
    "    return ModelJobSearch(n=n, w_vals=w_vals, φ=φ, β=β, c=c, T=T)"
   ]
  },
  {
   "cell_type": "code",
   "execution_count": 25,
   "id": "b5413ee6",
   "metadata": {},
   "outputs": [
    {
     "data": {
      "text/plain": [
       "Model(n=50, w_vals=array([10., 11., 12., 13., 14., 15., 16., 17., 18., 19., 20., 21., 22.,\n",
       "       23., 24., 25., 26., 27., 28., 29., 30., 31., 32., 33., 34., 35.,\n",
       "       36., 37., 38., 39., 40., 41., 42., 43., 44., 45., 46., 47., 48.,\n",
       "       49., 50., 51., 52., 53., 54., 55., 56., 57., 58., 59., 60.]), φ=array([1.17916374e-21, 7.91385058e-20, 2.63322684e-18, 5.78951642e-17,\n",
       "       9.45852331e-16, 1.22425907e-14, 1.30715161e-13, 1.18361860e-12,\n",
       "       9.27411020e-12, 6.38444655e-11, 3.90773732e-10, 2.14682757e-09,\n",
       "       1.06680218e-08, 4.82546790e-08, 1.99734835e-07, 7.59880083e-07,\n",
       "       2.66702315e-06, 8.66281202e-06, 2.61087529e-05, 7.31758378e-05,\n",
       "       1.91073370e-04, 4.65516517e-04, 1.05947988e-03, 2.25461382e-03,\n",
       "       4.48909716e-03, 8.36624059e-03, 1.45968062e-02, 2.38401316e-02,\n",
       "       3.64371566e-02, 5.20857161e-02, 6.95778357e-02, 8.67601096e-02,\n",
       "       1.00844841e-01, 1.09072276e-01, 1.09542415e-01, 1.01894858e-01,\n",
       "       8.75193404e-02, 6.91614209e-02, 5.00672786e-02, 3.30312192e-02,\n",
       "       1.97361535e-02, 1.05989636e-02, 5.06815521e-03, 2.13256868e-03,\n",
       "       7.77765720e-04, 2.40983918e-04, 6.17067935e-05, 1.25427566e-05,\n",
       "       1.89832162e-06, 1.90254097e-07, 9.47465401e-09]), β=0.96, c=10.0, T=3)"
      ]
     },
     "execution_count": 25,
     "metadata": {},
     "output_type": "execute_result"
    }
   ],
   "source": [
    "model_js = create_job_search_model()\n",
    "\n",
    "model_js"
   ]
  },
  {
   "cell_type": "code",
   "execution_count": 42,
   "id": "fcde7640",
   "metadata": {},
   "outputs": [],
   "source": [
    "@njit\n",
    "def v_t(w, t, v_next, model):\n",
    "    \"\"\"\n",
    "    Computes lifetime value at t given current wage w_t = w and v_{t+1}\n",
    "    \"\"\"\n",
    "    β, c, T = model.β, model.c, model.T\n",
    "    h_t = c + β * np.sum(v_next * model.φ)\n",
    "#     z_t = w * (β ** np.arange(0, T-t+1, 1)).sum()\n",
    "    z_t = w * (1 - β ** (T-t+1)) / (1 - β)\n",
    "    return np.maximum(z_t, h_t)"
   ]
  },
  {
   "cell_type": "code",
   "execution_count": 43,
   "id": "b734526b",
   "metadata": {},
   "outputs": [],
   "source": [
    "@njit\n",
    "def backwards_induction(model):\n",
    "\n",
    "    # unpack parameters\n",
    "    β, c, T = model.β, model.c, model.T\n",
    "    w_vals = model.w_vals\n",
    "\n",
    "    # initialize value function array\n",
    "    v_arr = np.empty((T+1, model.w_vals.size))\n",
    "\n",
    "    # compute v(T)\n",
    "    v_arr[-1] = np.maximum(c, w_vals)\n",
    "\n",
    "    for t in range(T-1, -1, -1):\n",
    "        v_arr[t] = [v_t(w, t, v_arr[t+1], model) for w in w_vals]\n",
    "\n",
    "    return v_arr"
   ]
  },
  {
   "cell_type": "markdown",
   "id": "dd52dcfe",
   "metadata": {},
   "source": [
    "### (b)"
   ]
  },
  {
   "cell_type": "code",
   "execution_count": 44,
   "id": "974dc6d8",
   "metadata": {},
   "outputs": [],
   "source": [
    "model_js2 = create_job_search_model(T=2)"
   ]
  },
  {
   "cell_type": "code",
   "execution_count": 45,
   "id": "f2031238",
   "metadata": {},
   "outputs": [],
   "source": [
    "v_arr2 = backwards_induction(model_js2)"
   ]
  },
  {
   "cell_type": "code",
   "execution_count": 46,
   "id": "fd0f26ff",
   "metadata": {},
   "outputs": [
    {
     "data": {
      "text/plain": [
       "Text(0.5, 0, 'w')"
      ]
     },
     "execution_count": 46,
     "metadata": {},
     "output_type": "execute_result"
    },
    {
     "data": {
      "image/png": "[encoded data removed]",
      "text/plain": [
       "<Figure size 640x480 with 1 Axes>"
      ]
     },
     "metadata": {},
     "output_type": "display_data"
    }
   ],
   "source": [
    "plt.plot(v_arr2.T)\n",
    "\n",
    "plt.legend(['v0', 'v1', 'v2'])\n",
    "plt.xlabel('w')"
   ]
  },
  {
   "cell_type": "markdown",
   "id": "4dd3c68b",
   "metadata": {},
   "source": [
    "### (c)"
   ]
  },
  {
   "cell_type": "code",
   "execution_count": 47,
   "id": "d5909bed",
   "metadata": {},
   "outputs": [],
   "source": [
    "model_js9 = create_job_search_model(T=9)"
   ]
  },
  {
   "cell_type": "code",
   "execution_count": 59,
   "id": "0a637495",
   "metadata": {},
   "outputs": [
    {
     "data": {
      "text/plain": [
       "Text(0.5, 0, 'w')"
      ]
     },
     "execution_count": 59,
     "metadata": {},
     "output_type": "execute_result"
    },
    {
     "data": {
      "image/png": "[encoded data removed]",
      "text/plain": [
       "<Figure size 640x480 with 1 Axes>"
      ]
     },
     "metadata": {},
     "output_type": "display_data"
    }
   ],
   "source": [
    "v_arr9 = backwards_induction(model_js9)\n",
    "\n",
    "plt.plot(model_js9.w_vals, v_arr9.T)\n",
    "\n",
    "plt.legend(['v'+str(t) for t in range(10)],\n",
    "           loc='upper right', bbox_to_anchor=(1.2, 1.))\n",
    "plt.xlabel('w')"
   ]
  },
  {
   "cell_type": "code",
   "execution_count": 51,
   "id": "2b0b5e83",
   "metadata": {},
   "outputs": [],
   "source": [
    "@njit\n",
    "def res_wage_t(t, v_next, model):\n",
    "    \"\"\"\n",
    "    Computes lifetime value at t given current wage w_t = w and v_{t+1}\n",
    "    \"\"\"\n",
    "    β, c, T = model.β, model.c, model.T\n",
    "    h_t = c + β * np.sum(v_next * model.φ)\n",
    "    return h_t * (1 - β) / (1 - β ** (T-t+1))"
   ]
  },
  {
   "cell_type": "code",
   "execution_count": 64,
   "id": "edaf0ebf",
   "metadata": {},
   "outputs": [
    {
     "data": {
      "text/plain": [
       "array([39.56075563, 39.15295117, 38.65269576, 38.03328107, 37.22553341,\n",
       "       36.1204253 , 34.48377626, 31.7656874 , 26.32653061,  1.        ])"
      ]
     },
     "execution_count": 64,
     "metadata": {},
     "output_type": "execute_result"
    }
   ],
   "source": [
    "res_wage_seq"
   ]
  },
  {
   "cell_type": "code",
   "execution_count": 66,
   "id": "3717b99d",
   "metadata": {},
   "outputs": [
    {
     "data": {
      "text/plain": [
       "array([ True,  True,  True,  True,  True,  True,  True,  True,  True,\n",
       "        True,  True,  True,  True,  True,  True,  True,  True,  True,\n",
       "        True,  True,  True,  True,  True,  True,  True,  True,  True,\n",
       "        True,  True,  True,  True,  True,  True,  True,  True,  True,\n",
       "        True,  True,  True,  True,  True,  True,  True,  True,  True,\n",
       "        True,  True,  True,  True,  True,  True])"
      ]
     },
     "execution_count": 66,
     "metadata": {},
     "output_type": "execute_result"
    }
   ],
   "source": [
    "(model_js9.w_vals >= model_js9.c)"
   ]
  },
  {
   "cell_type": "code",
   "execution_count": 68,
   "id": "42f6f424",
   "metadata": {},
   "outputs": [
    {
     "data": {
      "text/plain": [
       "Text(0.5, 0, 't')"
      ]
     },
     "execution_count": 68,
     "metadata": {},
     "output_type": "execute_result"
    },
    {
     "data": {
      "image/png": "[encoded data removed]",
      "text/plain": [
       "<Figure size 640x480 with 1 Axes>"
      ]
     },
     "metadata": {},
     "output_type": "display_data"
    }
   ],
   "source": [
    "T = model_js9.T\n",
    "\n",
    "t_range = np.arange(0, T+1, 1)\n",
    "\n",
    "res_wage_seq = np.empty(T+1)\n",
    "for t in t_range[:T]:\n",
    "    res_wage_seq[t] = res_wage_t(t, v_arr9[t+1], model_js9)\n",
    "res_wage_seq[T] = np.maximum(model_js9.w_vals.min(), model_js9.c)\n",
    "\n",
    "plt.plot(t_range, res_wage_seq)\n",
    "plt.xlabel('t')"
   ]
  },
  {
   "cell_type": "code",
   "execution_count": null,
   "id": "59e8c8ba",
   "metadata": {},
   "outputs": [],
   "source": []
  }
 ],
 "metadata": {
  "kernelspec": {
   "display_name": "Python [conda env:quantecon]",
   "language": "python",
   "name": "conda-env-quantecon-py"
  },
  "language_info": {
   "codemirror_mode": {
    "name": "ipython",
    "version": 3
   },
   "file_extension": ".py",
   "mimetype": "text/x-python",
   "name": "python",
   "nbconvert_exporter": "python",
   "pygments_lexer": "ipython3",
   "version": "3.10.13"
  }
 },
 "nbformat": 4,
 "nbformat_minor": 5
}
